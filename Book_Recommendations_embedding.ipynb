{
 "cells": [
  {
   "cell_type": "code",
   "execution_count": 144,
   "metadata": {},
   "outputs": [],
   "source": [
    "%matplotlib inline\n",
    "import re\n",
    "import os\n",
    "import numpy as np\n",
    "\n",
    "import psycopg2\n",
    "import psycopg2.extras\n",
    "from itertools import chain\n",
    "from collections import Counter, defaultdict\n",
    "import requests\n",
    "import imageio\n",
    "\n",
    "import matplotlib.pyplot as plt\n",
    "from PIL import Image, ImageDraw, ImageFont\n",
    "import textwrap\n",
    "from io import BytesIO\n",
    "from hashlib import md5\n",
    "from IPython.display import display, HTML\n",
    "\n",
    "from itertools import chain\n",
    "import mwparserfromhell\n",
    "\n",
    "from keras.models import Model,Sequential\n",
    "from keras.layers import Embedding, Dense, Input, Lambda, Reshape, merge, Flatten\n",
    "import keras.backend as K\n",
    "from keras.layers.merge import Dot\n",
    "from sklearn.manifold import TSNE\n",
    "from keras_tqdm import TQDMNotebookCallback"
   ]
  },
  {
   "cell_type": "markdown",
   "metadata": {},
   "source": [
    "The fetch_image function below fetches an image from wikipedia given a wikipedia id for that image:"
   ]
  },
  {
   "cell_type": "code",
   "execution_count": 145,
   "metadata": {
    "collapsed": true
   },
   "outputs": [],
   "source": [
    "OBJ_STR='book'"
   ]
  },
  {
   "cell_type": "code",
   "execution_count": 146,
   "metadata": {
    "scrolled": true
   },
   "outputs": [
    {
     "data": {
      "text/plain": [
       "True"
      ]
     },
     "execution_count": 146,
     "metadata": {},
     "output_type": "execute_result"
    }
   ],
   "source": [
    "IMAGE_PATH_EN = 'http://upload.wikimedia.org/wikipedia/en/%s/%s/%s'\n",
    "IMAGE_PATH_COMMONS = 'http://upload.wikimedia.org/wikipedia/commons/%s/%s/%s'\n",
    "image_cache = OBJ_STR+'_images'\n",
    "\n",
    "def fetch_image(image_name):\n",
    "    if not image_name: \n",
    "        return False\n",
    "    file_path = os.path.join(image_cache, image_name)\n",
    "    if os.path.isfile(file_path): #if image already exist, simply return \n",
    "        #Image.open(file_path).show()\n",
    "        return True\n",
    "    else:\n",
    "        m = md5() #hash function producing 128 bit hash value from text \n",
    "        m.update(image_name.encode('utf-8'))\n",
    "        c = m.hexdigest()\n",
    "        #print c\n",
    "        path1 = IMAGE_PATH_EN % (c[0], c[0:2], image_name)\n",
    "        #print path\n",
    "        r = requests.get(path1)\n",
    "        if r.status_code == 404:\n",
    "            path2 = IMAGE_PATH_COMMONS % (c[0], c[0:2], image_name)\n",
    "            r = requests.get(path2)\n",
    "            if r.status_code == 404:\n",
    "                #print 'status code 404 retrieving ',image_name\n",
    "                #print 'both paths failed', path1, path2\n",
    "                return False\n",
    "        try:\n",
    "            image = Image.open(BytesIO(r.content))\n",
    "        except IOError:\n",
    "            return False\n",
    "        except ValueError:\n",
    "            return False\n",
    "        try:\n",
    "            image.save(file(file_path, 'w'))\n",
    "        except IOError as err:\n",
    "            print image_name, err.message\n",
    "            return False\n",
    "        image.thumbnail((240, 640), Image.ANTIALIAS)\n",
    "        res = BytesIO()\n",
    "        if image.mode == 'P':\n",
    "            image = image.convert('RGB')\n",
    "        try:\n",
    "            image.save(res, 'WebP', quality=15)\n",
    "        except IOError as err:\n",
    "            print image_name, err.message\n",
    "            return False\n",
    "        #Image.open(file_path).show()\n",
    "        return True\n",
    "\n",
    "fetch_image('TheGreatGatsby_1925jacket.jpeg')"
   ]
  },
  {
   "cell_type": "code",
   "execution_count": 147,
   "metadata": {
    "collapsed": true
   },
   "outputs": [],
   "source": [
    "postgres_conn = psycopg2.connect('dbname=wikidb user=luliu')\n",
    "postgres_cursor = postgres_conn.cursor(cursor_factory=psycopg2.extras.DictCursor)"
   ]
  },
  {
   "cell_type": "markdown",
   "metadata": {},
   "source": [
    "setup a connection to postgres, fetch the 500 most popular items and then extract for each the item name, the image for the item and the outgoing links from that page"
   ]
  },
  {
   "cell_type": "code",
   "execution_count": 148,
   "metadata": {
    "scrolled": true
   },
   "outputs": [
    {
     "name": "stdout",
     "output_type": "stream",
     "text": [
      "Getting top books...\n",
      "done\n"
     ]
    }
   ],
   "source": [
    "print 'Getting top %ss...'%(OBJ_STR)\n",
    "postgres_cursor.execute(\n",
    "    \"SELECT wikipedia.*, wikistats.viewcount FROM wikipedia \"\n",
    "    \"JOIN wikistats ON wikipedia.title = wikistats.title WHERE wikipedia.infobox like '%book%' \"\n",
    "    \"ORDER BY wikistats.viewcount DESC limit 500\"\n",
    ")\n",
    "print 'done'"
   ]
  },
  {
   "cell_type": "markdown",
   "metadata": {},
   "source": [
    "retrieve image files from the web, create an array to store the items "
   ]
  },
  {
   "cell_type": "code",
   "execution_count": 149,
   "metadata": {},
   "outputs": [
    {
     "name": "stdout",
     "output_type": "stream",
     "text": [
      "Guinness_World_Records.jpg created\n",
      "The_Stranger_(novel).jpg created\n",
      "Lar_Gand.jpg created\n",
      "Encyclopædia_Britannica.jpg created\n",
      "Dirk_Gently's_Holistic_Detective_Agency.jpg created\n",
      "Katana_(comics).jpg created\n",
      "A_Bridge_Too_Far_(film).jpg created\n",
      "Into_the_Wild_(book).jpg created\n",
      "Tank_Girl.jpg created\n",
      "Gary_Larson.jpg created\n",
      "Cat's_Cradle.jpg created\n",
      "Goosebumps.jpg created\n",
      "The_History_of_the_Decline_and_Fall_of_the_Roman_Empire.jpg created\n",
      "Rubaiyat_of_Omar_Khayyam.jpg created\n",
      "The_Idiot.jpg created\n",
      "Beyond_Good_and_Evil.jpg created\n",
      "Magic_Tree_House.jpg created\n",
      "Little_House_on_the_Prairie.jpg created\n",
      "Aubrey–Maturin_series.jpg created\n",
      "The_Devil_and_Daniel_Webster.jpg created\n",
      "Left_Behind.jpg created\n",
      "Anabasis_(Xenophon).jpg created\n",
      "Liar's_Poker.jpg created\n"
     ]
    },
    {
     "data": {
      "text/plain": [
       "500"
      ]
     },
     "execution_count": 149,
     "metadata": {},
     "output_type": "execute_result"
    }
   ],
   "source": [
    "#create an image file for the book if failed to retrieve from the web \n",
    "def create_image(title):\n",
    "    image_name=title.replace(' ','_')+'.jpg'\n",
    "    file_path = os.path.join(image_cache, image_name)\n",
    "    if os.path.isfile(file_path): #if image already exist, simply return \n",
    "        return image_name\n",
    "    img = Image.new('RGB', (200, 300))\n",
    "    draw = ImageDraw.Draw(img)\n",
    "    draw.text((20, 70), textwrap.fill(title,15) ,font=ImageFont.truetype(\"/Users/luliu/Library/Fonts/Tox Typewriter.ttf\", 20))\n",
    "    img.save(file_path, \"JPEG\")  \n",
    "    return image_name\n",
    "\n",
    "#turn image name into proper image file name for web retrieval \n",
    "def get_clean_image_name(original):\n",
    "    image_name=original.strip()\n",
    "    if not image_name:\n",
    "        return None\n",
    "    re_image_name=re.compile('([\\w\\-\\(\\)\\'\\.,]+\\.(?:jpg|png|jpeg|gif))', re.I|re.M|re.U)\n",
    "    image_name=image_name.replace(' ','_')\n",
    "    result=re_image_name.search(image_name)\n",
    "    if result:\n",
    "        image_name=result.group().strip(\"_\")\n",
    "    try:\n",
    "        if image_name[0].upper()!=image_name[0]: #already capitalized leave untouched\n",
    "            image_name=image_name.capitalize()\n",
    "    except:\n",
    "        print 'has empty image_name string!!!!!!!!!'\n",
    "    return image_name\n",
    "\n",
    "item_list = []\n",
    "for item in postgres_cursor:\n",
    "    wikicode = mwparserfromhell.parse(item['wikitext'])\n",
    "    image_name = None\n",
    "    successful = False #flag for retriveing image online \n",
    "    for template in wikicode.filter_templates():\n",
    "        if template.name.lower().startswith('infobox '):\n",
    "            for param in template.params:\n",
    "                key = param.name.strip()                    \n",
    "                if key == 'image':\n",
    "                    image_name=get_clean_image_name(param.value) \n",
    "                    break\n",
    "    if image_name:\n",
    "        successful = fetch_image(image_name)\n",
    "    if image_name is None or not successful: \n",
    "        #print 'cannot find image for ',item['title']\n",
    "        #print 'creating an image for this item...'\n",
    "        image_name=create_image(item['title'])\n",
    "        print image_name, 'created'\n",
    "    item_list.append((item['title'], image_name, set(unicode(x.title) for x in wikicode.filter_wikilinks()), item['viewcount']))\n",
    "\n",
    "num_items=len(item_list)\n",
    "num_items"
   ]
  },
  {
   "cell_type": "code",
   "execution_count": 150,
   "metadata": {},
   "outputs": [
    {
     "data": {
      "text/plain": [
       "[(\"The Handmaid's Tale\",\n",
       "  u'TheHandmaidsTale(1stEd).jpg',\n",
       "  {u'Advanced Placement',\n",
       "   u'Afghanistan',\n",
       "   u'Aldous Huxley',\n",
       "   u'Alexander Gamayunov',\n",
       "   u'Amanda Green (dancer)',\n",
       "   u'America (magazine)',\n",
       "   u'American Library Association',\n",
       "   u'Arranged Marriage',\n",
       "   u'Arthur C. Clarke Award',\n",
       "   u'Audie Award',\n",
       "   u'Audio file format',\n",
       "   u'BBC One',\n",
       "   u'BBC Radio 4',\n",
       "   u'BBC World Service',\n",
       "   u'Bantustan',\n",
       "   u'Baptist',\n",
       "   u'Basingstoke',\n",
       "   u'Bilhah',\n",
       "   u'Booker Prize',\n",
       "   u'Books of Kings',\n",
       "   u'Brainwashing',\n",
       "   u'Brave New World',\n",
       "   u'Breakfast News',\n",
       "   u'CBC Music',\n",
       "   u'CBC News',\n",
       "   u'CBC Radio',\n",
       "   u'Cambridge, Massachusetts',\n",
       "   u'Canada',\n",
       "   u'Canadian Library Association',\n",
       "   u'Canadian literature',\n",
       "   u'Category:1980s science fiction novels',\n",
       "   u'Category:1985 Canadian novels',\n",
       "   u'Category:Boston in fiction',\n",
       "   u'Category:Canadian novels adapted into films',\n",
       "   u'Category:Canadian speculative fiction novels',\n",
       "   u'Category:Debut speculative fiction novels',\n",
       "   u'Category:Dystopian novels',\n",
       "   u'Category:Feminist science fiction novels',\n",
       "   u'Category:Fictional states of the United States',\n",
       "   u\"Category:Governor General's Award-winning novels\",\n",
       "   u'Category:McClelland & Stewart books',\n",
       "   u'Category:Metafictional novels',\n",
       "   u'Category:Novels about totalitarianism',\n",
       "   u'Category:Novels adapted into television programs',\n",
       "   u'Category:Novels by Margaret Atwood',\n",
       "   u'Category:Novels set in Boston',\n",
       "   u'Category:Novels set in the future',\n",
       "   u'Category:Philosophical novels',\n",
       "   u'Category:Post-apocalyptic novels',\n",
       "   u'Category:Religion in fiction',\n",
       "   u'Category:Sterilization in fiction',\n",
       "   u'Chicopee, Massachusetts',\n",
       "   u'Christian Reconstructionism',\n",
       "   u'Christian Reconstructionist',\n",
       "   u'Christian ministry',\n",
       "   u'Christian monasticism',\n",
       "   u'Christian prayer',\n",
       "   u'Claire Danes',\n",
       "   u'Coming of age',\n",
       "   u'Copenhagen',\n",
       "   u\"Coup d'\\xe9tat\",\n",
       "   u'Crypto-Judaism',\n",
       "   u'David Langford',\n",
       "   u'Dog Latin',\n",
       "   u'Dripping Springs, Texas',\n",
       "   u'Dystopian novel',\n",
       "   u'Elisabeth Moss',\n",
       "   u'English National Opera',\n",
       "   u'Entertainment Weekly',\n",
       "   u'Faye Dunaway',\n",
       "   u'Feminism',\n",
       "   u'Feminist science fiction',\n",
       "   u'File:Old Dutch.gif',\n",
       "   u'Geoffrey Chaucer',\n",
       "   u'George D. Chamberlain High School',\n",
       "   u'Gospel of Luke',\n",
       "   u\"Governor General's Award\",\n",
       "   u\"Governor General's Award for English language fiction\",\n",
       "   u'HIV/AIDS',\n",
       "   u'Hagar (Bible)',\n",
       "   u'Hamitic',\n",
       "   u'Handmaid',\n",
       "   u'Hanging',\n",
       "   u'Harold Pinter',\n",
       "   u'Harvard Square',\n",
       "   u'Harvard University',\n",
       "   u'Haymarket Theatre',\n",
       "   u'Hugo Award',\n",
       "   u'Hulu',\n",
       "   u'Human sexual activity',\n",
       "   u'Illegitimi non carborundum',\n",
       "   u'Iran',\n",
       "   u'Jacob',\n",
       "   u'Jews',\n",
       "   u'Jezebel',\n",
       "   u'Judson',\n",
       "   u'Khmer Rouge',\n",
       "   u'Lila York',\n",
       "   u'MaddAddam',\n",
       "   u'Man Booker Prize',\n",
       "   u'Margaret Atwood',\n",
       "   u'Martha',\n",
       "   u'Mary Webster (alleged witch)',\n",
       "   u'Mary, sister of Lazarus',\n",
       "   u'Matriarchy',\n",
       "   u'McClelland and Stewart',\n",
       "   u'Mise en abyme',\n",
       "   u'Monolith (disambiguation)',\n",
       "   u'Natasha Richardson',\n",
       "   u'Nebula Award',\n",
       "   u'New England',\n",
       "   u'New Statesman',\n",
       "   u'New Testament',\n",
       "   u'Nicolae Ceau\\u0219escu',\n",
       "   u'Nineteen Eighty-Four',\n",
       "   u'Old Testament',\n",
       "   u'Ontario',\n",
       "   u'Opera Canada',\n",
       "   u'Oryx and Crake',\n",
       "   u'Persepolis_(comics) ',\n",
       "   u'Philadelphia',\n",
       "   u'Philippines',\n",
       "   u'Playboy Bunny',\n",
       "   u'Poul Ruders',\n",
       "   u'Pregnancy in science fiction',\n",
       "   u'Prometheus Award',\n",
       "   u'Puritans',\n",
       "   u'Puritans#New_England_Puritans',\n",
       "   u'Radcliffe College',\n",
       "   u'Rancho Cotate High School',\n",
       "   u'Realism (art)',\n",
       "   u'Realism (arts)',\n",
       "   u'Religious Society of Friends',\n",
       "   u'Richland, Washington',\n",
       "   u'Robert A. Heinlein',\n",
       "   u'Robert Duvall',\n",
       "   u'Rohnert Park, California',\n",
       "   u'Roman Catholics',\n",
       "   u'Romanian Communist Party',\n",
       "   u'Royal Winnipeg Ballet',\n",
       "   u'Satire',\n",
       "   u'Scrabble',\n",
       "   u'Second American Revolution',\n",
       "   u'Slavery in the United States',\n",
       "   u'Socialist Republic of Romania',\n",
       "   u'Sojourners',\n",
       "   u'Soviet anti-religious legislation',\n",
       "   u'Tampa, Florida',\n",
       "   u'The Canterbury Tales',\n",
       "   u'The Catholic Herald',\n",
       "   u'The Engineer of Human Souls',\n",
       "   u'The Guardian',\n",
       "   u\"The Handmaid's Tale (TV series)\",\n",
       "   u\"The Handmaid's Tale (film)\",\n",
       "   u\"The Handmaid's Tale (opera)\",\n",
       "   u'The New York Times',\n",
       "   u'The Progress of Love',\n",
       "   u'The Sea and Summer',\n",
       "   u'Theonomy',\n",
       "   u'There Is a Balm in Gilead',\n",
       "   u'Toronto',\n",
       "   u'Toronto District School Board',\n",
       "   u'Toronto Star',\n",
       "   u'Totalitarianism',\n",
       "   u'United States Congress',\n",
       "   u'United States Constitution',\n",
       "   u'University of Tennessee at Martin',\n",
       "   u'University of Toronto',\n",
       "   u'Upper Moreland School District',\n",
       "   u'Virgin Mary',\n",
       "   u'Volker Schl\\xf6ndorff',\n",
       "   u'Waterloo, Iowa',\n",
       "   u'Winston-Salem Journal',\n",
       "   u'Woodrow Wilson Fellowship',\n",
       "   u'World Book Club',\n",
       "   u'Zilpah',\n",
       "   u'aphorism',\n",
       "   u'audiobook',\n",
       "   u'bonnet',\n",
       "   u'caste',\n",
       "   u'church attendance',\n",
       "   u'concubine',\n",
       "   u'division of labor',\n",
       "   u'dystopian fiction',\n",
       "   u'dystopian novel',\n",
       "   u'epilogue',\n",
       "   u'handmaid',\n",
       "   u'homophobia',\n",
       "   u'infertility',\n",
       "   u'libertarian science fiction',\n",
       "   u'market research',\n",
       "   u'metafictional',\n",
       "   u'metonymic',\n",
       "   u'military dictatorship',\n",
       "   u'motif (narrative)',\n",
       "   u'protagonist',\n",
       "   u'radiation',\n",
       "   u'religious fanaticism',\n",
       "   u'religious persecution',\n",
       "   u'ruling class',\n",
       "   u'school district',\n",
       "   u'science fiction',\n",
       "   u'slave name',\n",
       "   u'social function',\n",
       "   u'social integration',\n",
       "   u'speculative fiction',\n",
       "   u'sumptuary law',\n",
       "   u'televangelist',\n",
       "   u'theocracy',\n",
       "   u'venereal disease',\n",
       "   u'wikt:sterile'},\n",
       "  6569),\n",
       " ('American Gods',\n",
       "  u'American_gods.jpg',\n",
       "  {u'Algonquian peoples',\n",
       "   u'American Gods (TV series)',\n",
       "   u'Americana',\n",
       "   u'Anansi',\n",
       "   u'Anansi Boys',\n",
       "   u'Ancient Egyptian religion',\n",
       "   u'Anubis',\n",
       "   u'BSFA Award',\n",
       "   u'Bastet',\n",
       "   u'Belobog',\n",
       "   u'Bram Stoker Award',\n",
       "   u'Bryan Fuller',\n",
       "   u'Buile Shuibhne',\n",
       "   u'Bulgarian language',\n",
       "   u'Cairo, Illinois',\n",
       "   u'Category:2000s fantasy novels',\n",
       "   u'Category:2001 British novels',\n",
       "   u'Category:Egyptian mythology in popular culture',\n",
       "   u'Category:Hugo Award for Best Novel-winning works',\n",
       "   u'Category:Jinn in popular culture',\n",
       "   u'Category:Locus Award for Best Novel winning works',\n",
       "   u'Category:Low fantasy novels',\n",
       "   u'Category:Nebula Award for Best Novel-winning works',\n",
       "   u'Category:Norse mythology in art and literature',\n",
       "   u'Category:Novels adapted into television programs',\n",
       "   u'Category:Novels by Neil Gaiman',\n",
       "   u'Category:Novels set in San Francisco',\n",
       "   u'Category:Novels set in Wisconsin',\n",
       "   u'Category:William Morrow and Company books',\n",
       "   u'Chernobog',\n",
       "   u'Confidence trick',\n",
       "   u'Croatian language',\n",
       "   u'Czech language',\n",
       "   u'Danish language',\n",
       "   u'Da\\u017ebog',\n",
       "   u'Derbyshire',\n",
       "   u'Diana Wynne Jones',\n",
       "   u'Dutch Language',\n",
       "   u'Eight Days of Luke',\n",
       "   u'Espionage',\n",
       "   u'Estonian language',\n",
       "   u'Finnish language',\n",
       "   u'Geffen Award',\n",
       "   u'Georgian language',\n",
       "   u'Germanic paganism',\n",
       "   u'Greek language',\n",
       "   u'Harper Audio',\n",
       "   u'HarperCollins',\n",
       "   u'Headline Publishing Group',\n",
       "   u'Hebrew language',\n",
       "   u'Hinzelmann',\n",
       "   u'House on the Rock',\n",
       "   u'House on the Rock Carousel',\n",
       "   u'Hugo Award',\n",
       "   u'Hugo Award for Best Novel',\n",
       "   u'Hungarian language',\n",
       "   u'I Love Lucy',\n",
       "   u'Iceland',\n",
       "   u'Ifrit',\n",
       "   u'Iktomi',\n",
       "   u'International Horror Guild Award',\n",
       "   u'Invisible hand',\n",
       "   u'Italian language',\n",
       "   u'Japanese Language',\n",
       "   u'John James (writer)',\n",
       "   u'Johnny Appleseed',\n",
       "   u'Kali',\n",
       "   u'Kathy Acker',\n",
       "   u'Korean language',\n",
       "   u'Lakota people',\n",
       "   u'Latvian language',\n",
       "   u'Legends II (book)',\n",
       "   u'Leprechaun',\n",
       "   u'Lithuanian language',\n",
       "   u'Locus Award for Best Fantasy Novel',\n",
       "   u'Locus Awards',\n",
       "   u'Loki',\n",
       "   u'Lucy Ricardo',\n",
       "   u'MTV News',\n",
       "   u'Men in Black',\n",
       "   u'Michael Green (writer)',\n",
       "   u'Mythopoeic Award',\n",
       "   u'Nebula Award',\n",
       "   u'Nebula Award for Best Novel',\n",
       "   u'Neil Gaiman',\n",
       "   u'Neil Gaiman bibliography#Short Story Collections',\n",
       "   u'Norse mythology',\n",
       "   u'Norwegian language',\n",
       "   u'Odin',\n",
       "   u'Polish language',\n",
       "   u'Portuguese language',\n",
       "   u'Queen of Sheba',\n",
       "   u'Rock City (attraction)',\n",
       "   u'Rock City (roadside attraction)',\n",
       "   u'Roger Zelazny',\n",
       "   u'Romanian language',\n",
       "   u'Russian Language',\n",
       "   u'SFX Magazine',\n",
       "   u'Serbian language',\n",
       "   u'Simargl',\n",
       "   u'Simplified Chinese',\n",
       "   u'Slavic mythology',\n",
       "   u'Slovak language',\n",
       "   u'Slovenian language',\n",
       "   u'Small Gods',\n",
       "   u'Starz',\n",
       "   u'Starz (TV network)',\n",
       "   u'Swedish language',\n",
       "   u'The Folio Society',\n",
       "   u'The Sandman (Vertigo)',\n",
       "   u'Thoth',\n",
       "   u'Traditional Chinese',\n",
       "   u'Turkish language',\n",
       "   u'William Morrow and Company',\n",
       "   u'Wisakedjak',\n",
       "   u'World Fantasy Award',\n",
       "   u'World Tree',\n",
       "   u'Zorya',\n",
       "   u'comic book',\n",
       "   u'con man',\n",
       "   u'conspiracy theories',\n",
       "   u'fantasy',\n",
       "   u'full cast audiobook',\n",
       "   u'incarnation',\n",
       "   u'kobold',\n",
       "   u'leprechaun',\n",
       "   u'men in black',\n",
       "   u'mythology',\n",
       "   u'news anchor',\n",
       "   u'revenant',\n",
       "   u'thoughtform',\n",
       "   u'weblog',\n",
       "   u'\\u0112ostre'},\n",
       "  3881),\n",
       " ('A Song of Ice and Fire',\n",
       "  u'A_Song_of_Ice_and_Fire_book_collection_box_set_cover.jpg',\n",
       "  {u'#Bridging the timeline gap',\n",
       "   u'#Novellas',\n",
       "   u'68th Primetime Emmy Awards',\n",
       "   u'A Clash of Kings',\n",
       "   u'A Dance with Dragons',\n",
       "   u'A Feast for Crows',\n",
       "   u'A Game of Thrones',\n",
       "   u'A Game of Thrones (board game)',\n",
       "   u'A Game of Thrones (card game)',\n",
       "   u'A Game of Thrones (comics)',\n",
       "   u'A Game of Thrones: Genesis',\n",
       "   u'A Song for Lya',\n",
       "   u'A Storm of Swords',\n",
       "   u'Act structure',\n",
       "   u'Adam Roberts (British writer)',\n",
       "   u'Aeron Damphair',\n",
       "   u'Aeron Greyjoy',\n",
       "   u'Albigensian Crusade',\n",
       "   u'Amazon Kindle',\n",
       "   u'American Broadcasting Company',\n",
       "   u'Ancient Egypt',\n",
       "   u'Andre Norton',\n",
       "   u'Andrew Leonard',\n",
       "   u'Areo Hotah',\n",
       "   u'Arianne Martell',\n",
       "   u'Arya Stark',\n",
       "   u'Arys Oakheart',\n",
       "   u'Asha Greyjoy',\n",
       "   u\"Asimov's Science Fiction\",\n",
       "   u'BBC',\n",
       "   u'Balon Greyjoy',\n",
       "   u'Bantam Books',\n",
       "   u'Bantam Spectra',\n",
       "   u'Barristan Selmy',\n",
       "   u'Beauty and the Beast (1987 TV series)',\n",
       "   u'Bran Stark',\n",
       "   u'Brienne of Tarth',\n",
       "   u'British Fantasy Awards',\n",
       "   u'Business Insider',\n",
       "   u'CNN',\n",
       "   u'Category:A Song of Ice and Fire',\n",
       "   u'Category:Death games in fiction',\n",
       "   u'Category:Death in fiction',\n",
       "   u'Category:Fantasy novel series',\n",
       "   u'Category:High fantasy novels',\n",
       "   u'Category:Incest in fiction',\n",
       "   u'Category:Novels adapted into comics',\n",
       "   u'Category:Novels adapted into television programs',\n",
       "   u'Category:Novels adapted into video games',\n",
       "   u'Category:Prosthetics in fiction',\n",
       "   u'Category:Witchcraft in written fiction',\n",
       "   u'Category:Works about women in war',\n",
       "   u'Catelyn Stark',\n",
       "   u'Cersei Lannister',\n",
       "   u'Crusades',\n",
       "   u'Cyanide (studio)',\n",
       "   u'D. B. Weiss',\n",
       "   u'DOS',\n",
       "   u'Daenerys Targaryen',\n",
       "   u'Daily News (New York)',\n",
       "   u'Dangerous Women (anthology)',\n",
       "   u'David Benioff',\n",
       "   u'Davos Seaworth',\n",
       "   u'Disruptor Beam',\n",
       "   u'Doorways',\n",
       "   u'Dragon (magazine)',\n",
       "   u'Dynamite Entertainment',\n",
       "   u'Eddard Stark',\n",
       "   u'Edward IV of England',\n",
       "   u'Elizabeth Woodville',\n",
       "   u'Emmy Award',\n",
       "   u'Emmy Awards',\n",
       "   u'Entertainment Weekly',\n",
       "   u'Eric Frank Russell',\n",
       "   u'Essos',\n",
       "   u'Fantasy Flight Games',\n",
       "   u'File:ASOIAF 2011 NYT Bestseller List.png',\n",
       "   u'File:Face in the Pool-Knight Fighting Dragon.jpg',\n",
       "   u'File:George R.R. Martin at Archipelacon.jpg',\n",
       "   u'File:Richard Burchett - Sanctuary (1867) contrasted.jpg',\n",
       "   u'Fire and Ice (poem)',\n",
       "   u'French monarchy',\n",
       "   u'Fritz Leiber',\n",
       "   u'Game of Thrones',\n",
       "   u'Game of Thrones (2012 video game)',\n",
       "   u'Game of Thrones (season 1)',\n",
       "   u'Game of Thrones (season 2)',\n",
       "   u'Game of Thrones (season 3)',\n",
       "   u'Game of Thrones (season 6)',\n",
       "   u'Game of Thrones Ascent',\n",
       "   u'Game of Thrones#Reception',\n",
       "   u'GamePro',\n",
       "   u'George R. R. Martin',\n",
       "   u'Gordon R. Dickson',\n",
       "   u'Green Ronin',\n",
       "   u'Guardians of Order',\n",
       "   u'Guinness World Records',\n",
       "   u'H. P. Lovecraft',\n",
       "   u'HBO',\n",
       "   u'Harper Voyager',\n",
       "   u'Harry Potter',\n",
       "   u'Henry V of England',\n",
       "   u'High fantasy',\n",
       "   u'Historical fiction',\n",
       "   u'Homer',\n",
       "   u'House Baratheon',\n",
       "   u'House Greyjoy',\n",
       "   u'House Lannister',\n",
       "   u'House Martell',\n",
       "   u'House Stark',\n",
       "   u'House Targaryen',\n",
       "   u'House Tyrell',\n",
       "   u'Hugo Award',\n",
       "   u'Hugo Awards',\n",
       "   u\"Hundred Years' War\",\n",
       "   u'IGN',\n",
       "   u'Iliad',\n",
       "   u'Indigo Books and Music',\n",
       "   u'Iron Throne (A Song of Ice and Fire)',\n",
       "   u'Isaac Asimov',\n",
       "   u'J. Allen St. John',\n",
       "   u'J. R. R. Tolkien',\n",
       "   u'Jack Vance',\n",
       "   u'Jaime Lannister',\n",
       "   u'January Magazine',\n",
       "   u'Joe Abercrombie',\n",
       "   u'Joffrey Baratheon',\n",
       "   u'Jon Connington',\n",
       "   u'Jon Snow (character)',\n",
       "   u'Kirby McCauley',\n",
       "   u'Legends (book)',\n",
       "   u'Legends II (book)',\n",
       "   u'Lev Grossman',\n",
       "   u'LiveJournal',\n",
       "   u'Locus Award',\n",
       "   u'Los Angeles Times',\n",
       "   u'MTV',\n",
       "   u'Margaret of Anjou',\n",
       "   u'Mariehamn',\n",
       "   u'Masterpiece',\n",
       "   u'Maurice Druon',\n",
       "   u'Meereen',\n",
       "   u'Melisandre',\n",
       "   u'Mervyn Peake',\n",
       "   u'National Book Award',\n",
       "   u'Nebula Award',\n",
       "   u'Nebula Awards',\n",
       "   u'Ned Stark',\n",
       "   u'New York (magazine)',\n",
       "   u'New York Times',\n",
       "   u\"Night's Watch\",\n",
       "   u'Others (A Song of Ice and Fire)',\n",
       "   u'Outline of A Song of Ice and Fire franchise',\n",
       "   u'Point of view (literature)#Narrative point of view',\n",
       "   u'Point of view (literature)#Third-person, subjective',\n",
       "   u'Poul Anderson',\n",
       "   u'Primetime Emmy Award for Outstanding Drama Series',\n",
       "   u'Primetime Emmy Award for Outstanding Main Title Design',\n",
       "   u'Primetime Emmy Award for Outstanding Supporting Actor in a Drama Series',\n",
       "   u'Ptolemaic dynasty',\n",
       "   u'Publishers Weekly',\n",
       "   u'Pulitzer Prize',\n",
       "   u'Quentyn Martell',\n",
       "   u'Random House',\n",
       "   u'Renly Baratheon',\n",
       "   u'Richard Burchett',\n",
       "   u'Richard, 3rd Duke of York',\n",
       "   u'Robb Stark',\n",
       "   u'Robert A. Heinlein',\n",
       "   u'Robert Baratheon',\n",
       "   u'Robert E. Howard',\n",
       "   u'Robert Frost',\n",
       "   u'Robert Jordan',\n",
       "   u'Rogues (anthology)',\n",
       "   u'Rolling Stone',\n",
       "   u'Salon (website)',\n",
       "   u'Salon.com',\n",
       "   u'Samwell Tarly',\n",
       "   u'Sansa Stark',\n",
       "   u'Santa Fe, New Mexico',\n",
       "   u'Science Fiction Weekly',\n",
       "   u'Scotcampus',\n",
       "   u'Stannis Baratheon',\n",
       "   u'TIFF Bell Lightbox',\n",
       "   u'Tad Williams',\n",
       "   u'Tales of Dunk and Egg',\n",
       "   u'Targaryen',\n",
       "   u'Tewkesbury Abbey',\n",
       "   u'The Accursed Kings',\n",
       "   u'The Atlantic',\n",
       "   u'The Christian Science Monitor',\n",
       "   u'The End (Lost)',\n",
       "   u'The Guardian',\n",
       "   u'The Lands of Ice and Fire',\n",
       "   u'The Lord of the Rings',\n",
       "   u'The Lord of the Rings (film series)',\n",
       "   u'The New York Times',\n",
       "   u'The New York Times Best Seller list',\n",
       "   u'The Princess and the Queen',\n",
       "   u'The Rogue Prince',\n",
       "   u'The Times of Israel',\n",
       "   u'The Twilight Zone (1985 TV series)',\n",
       "   u'The Wall Street Journal',\n",
       "   u'The Washington Post',\n",
       "   u'The Winds of Winter',\n",
       "   u'The World of Ice & Fire',\n",
       "   u'Themes in A Song of Ice and Fire#Moral ambiguity',\n",
       "   u'Themes in A Song of Ice and Fire#Violence and death',\n",
       "   u'Theon Greyjoy',\n",
       "   u'Third-person limited narrative',\n",
       "   u'Time (magazine)',\n",
       "   u'Tor Books',\n",
       "   u'Trekkie',\n",
       "   u'Tyrion Lannister',\n",
       "   u'Variety (magazine)',\n",
       "   u'Victarion Greyjoy',\n",
       "   u'Viserys Targaryen',\n",
       "   u'Voyager Books',\n",
       "   u'War of the Five Kings',\n",
       "   u'Warriors (anthology)',\n",
       "   u'Wars of the Roses',\n",
       "   u'Weird Tales',\n",
       "   u'Westeros',\n",
       "   u'Westeros.org',\n",
       "   u'White Walker',\n",
       "   u'Wild Cards',\n",
       "   u'William Faulkner',\n",
       "   u'Winterfell',\n",
       "   u'Wired (website)',\n",
       "   u'WordStar',\n",
       "   u'Works based on A Song of Ice and Fire',\n",
       "   u'Works based on A Song of Ice and Fire#Video games',\n",
       "   u'World Fantasy Award',\n",
       "   u'World of A Song of Ice and Fire#Background',\n",
       "   u'World of A Song of Ice and Fire#The Wall',\n",
       "   u'canon (fiction)',\n",
       "   u'cliffhanger',\n",
       "   u'comic-con.org',\n",
       "   u'dragon',\n",
       "   u'dynasty',\n",
       "   u'epic fantasy',\n",
       "   u'epilogue',\n",
       "   u'genealogy',\n",
       "   u'given name',\n",
       "   u'good and evil',\n",
       "   u'graphic novel',\n",
       "   u'grimdark',\n",
       "   u'hard fantasy',\n",
       "   u'ign.com',\n",
       "   u'illegitimacy',\n",
       "   u'locusmag.com',\n",
       "   u'media franchise',\n",
       "   u'point of view (literature)',\n",
       "   u'prequel',\n",
       "   u'prologue',\n",
       "   u'scifi.com',\n",
       "   u'secondary world',\n",
       "   u'sfsite.com',\n",
       "   u'social network game',\n",
       "   u'unreliable narrator'},\n",
       "  3771)]"
      ]
     },
     "execution_count": 150,
     "metadata": {},
     "output_type": "execute_result"
    }
   ],
   "source": [
    "item_list[:3]"
   ]
  },
  {
   "cell_type": "code",
   "execution_count": 142,
   "metadata": {
    "collapsed": true
   },
   "outputs": [],
   "source": [
    "#serialize items_list array and store in file \n",
    "import pickle\n",
    "pickle.dump( item_list, open( \"item_list.p\", \"wb\" ) )"
   ]
  },
  {
   "cell_type": "code",
   "execution_count": 170,
   "metadata": {
    "collapsed": true
   },
   "outputs": [],
   "source": [
    "item_list=pickle.load(open(\"item_list.p\",\"rb\"))"
   ]
  },
  {
   "cell_type": "markdown",
   "metadata": {},
   "source": [
    "extract all the outgoing links (refs) and keep the ones that are used more than once, less than 50 times (refs that are shared too often does not provide much information)."
   ]
  },
  {
   "cell_type": "code",
   "execution_count": 171,
   "metadata": {
    "scrolled": true
   },
   "outputs": [
    {
     "data": {
      "text/plain": [
       "(7419, 41298)"
      ]
     },
     "execution_count": 171,
     "metadata": {},
     "output_type": "execute_result"
    }
   ],
   "source": [
    "ref_counts = Counter()\n",
    "for _, _, refs, _ in item_list:\n",
    "    ref_counts.update(refs)\n",
    "all_shared_refs = [ref for ref, count in ref_counts.items() if 1<count<50] #if a ref is shared by too many books, then its not very important \n",
    "ref_to_id = {ref: idx for idx, ref in enumerate(all_shared_refs)}\n",
    "item_to_id = {title: idx for idx, (title, _, _, _) in enumerate(item_list)}\n",
    "len(all_shared_refs), len(ref_counts)\n"
   ]
  },
  {
   "cell_type": "code",
   "execution_count": 172,
   "metadata": {},
   "outputs": [
    {
     "data": {
      "text/plain": [
       "[u'Category:British novels adapted into films',\n",
       " u'Time (magazine)',\n",
       " u'The New York Times',\n",
       " u'Category:American novels adapted into films',\n",
       " u'Paperback',\n",
       " u'Hardcover',\n",
       " u'Category:Novels adapted into television programs',\n",
       " u'BBC Radio 4',\n",
       " u'BBC',\n",
       " u'The Guardian']"
      ]
     },
     "execution_count": 172,
     "metadata": {},
     "output_type": "execute_result"
    }
   ],
   "source": [
    "[ref for ref, count in ref_counts.items() if count>50]"
   ]
  },
  {
   "cell_type": "code",
   "execution_count": 173,
   "metadata": {
    "scrolled": true
   },
   "outputs": [
    {
     "data": {
      "text/plain": [
       "500"
      ]
     },
     "execution_count": 173,
     "metadata": {},
     "output_type": "execute_result"
    }
   ],
   "source": [
    "#create the items_refs that hold the refs for each item\n",
    "items_refs = defaultdict(set)\n",
    "for item, image, refs, viewcounts in item_list:\n",
    "    item_id = item_to_id[item]\n",
    "    ref_ids = set(ref_to_id.get(ref) for ref in refs if ref_to_id.get(ref) is not None)\n",
    "    items_refs[item_id]|=ref_ids\n",
    "len(items_refs)"
   ]
  },
  {
   "cell_type": "code",
   "execution_count": 174,
   "metadata": {},
   "outputs": [
    {
     "data": {
      "text/plain": [
       "7419"
      ]
     },
     "execution_count": 174,
     "metadata": {},
     "output_type": "execute_result"
    }
   ],
   "source": [
    "#for each ref, the list of items that reference to it \n",
    "refs_items = defaultdict(set)\n",
    "for item_id, ref_ids in items_refs.items():\n",
    "    for ref_id in ref_ids:\n",
    "        refs_items[ref_id].add(item_id)\n",
    "refs_items = list(refs_items.items())\n",
    "len(refs_items)"
   ]
  },
  {
   "cell_type": "markdown",
   "metadata": {},
   "source": [
    "check that the most shared refs are meaningful refs"
   ]
  },
  {
   "cell_type": "code",
   "execution_count": 175,
   "metadata": {
    "scrolled": true
   },
   "outputs": [
    {
     "name": "stdout",
     "output_type": "stream",
     "text": [
      "Cirith Ungol\n",
      "Vancouver\n",
      "Ultron\n",
      "Prohibition in the United States\n",
      "Gene Wilder\n",
      "Explosive material\n",
      "Dover\n",
      "Nikolai Chernyshevsky\n",
      "The Old Curiosity Shop\n",
      "Category:Books about sovereignty\n"
     ]
    }
   ],
   "source": [
    "sorted_refs=sorted(refs_items,key=lambda item: len(item[1]),reverse=True)\n",
    "for id,_ in sorted_refs[-10:]:\n",
    "    print all_shared_refs[id]"
   ]
  },
  {
   "cell_type": "markdown",
   "metadata": {},
   "source": [
    "use word2vec skipgram embedding model to map the books into a lower dimension vector space.     \n",
    "use the resulting embedding vectors to find similarities among books "
   ]
  },
  {
   "cell_type": "code",
   "execution_count": 176,
   "metadata": {
    "scrolled": true
   },
   "outputs": [
    {
     "name": "stdout",
     "output_type": "stream",
     "text": [
      "([array([279, 279, 279, 279, 279, 279, 191, 191, 191, 191, 191, 191, 204,\n",
      "       204, 204, 204, 204, 204,  74,  74,  74,  74,  74,  74, 386, 386,\n",
      "       386, 386, 386, 386,  43,  43,  43,  43,  43,  43, 241, 241, 241,\n",
      "       241, 241, 241, 268, 268, 268, 268, 268, 268, 406, 406, 406, 406,\n",
      "       406, 406, 227, 227, 227, 227, 227, 227,  19,  19,  19,  19,  19,\n",
      "        19, 381, 381, 381, 381, 381, 381, 464, 464, 464, 464, 464, 464,\n",
      "       226, 226, 226, 226, 226, 226, 208, 208, 208, 208, 208, 208,  61,\n",
      "        61,  61,  61,  61,  61, 306, 306, 306, 306, 306]), array([135, 145, 313, 289, 200, 399, 406,  70, 305,   1, 339, 471, 490,\n",
      "        50, 131,  15, 360, 450,  52, 111, 130, 200,  91, 313, 328, 220,\n",
      "       293, 482, 493,  61, 189, 457, 308,  69, 184, 240,  31, 236,  41,\n",
      "        48, 387, 487, 394, 177, 498,  59, 456, 427, 256, 296, 364, 365,\n",
      "       465, 156, 290, 461, 411, 134,  30, 319, 486, 459, 332, 246, 105,\n",
      "       375, 118, 421,  78, 222,  11, 140, 279, 314, 489, 491, 238, 455,\n",
      "       402,  63, 277, 492, 313, 127,  61,   8,  91, 135,  14, 248,  35,\n",
      "       377, 187,  97, 459, 237, 231, 476, 186, 120,  53])], array([1, 0, 0, 0, 0, 0, 1, 0, 0, 0, 0, 0, 1, 0, 0, 0, 0, 0, 1, 0, 0, 0, 0,\n",
      "       0, 1, 0, 0, 0, 0, 0, 1, 0, 0, 0, 0, 0, 1, 0, 0, 0, 0, 0, 1, 0, 0, 0,\n",
      "       0, 0, 1, 0, 0, 0, 0, 0, 1, 0, 0, 0, 0, 0, 1, 0, 0, 0, 0, 0, 1, 0, 0,\n",
      "       0, 0, 0, 1, 0, 0, 0, 0, 0, 1, 0, 0, 0, 0, 0, 1, 0, 0, 0, 0, 0, 1, 0,\n",
      "       0, 0, 0, 0, 1, 0, 0, 0, 0]))\n"
     ]
    }
   ],
   "source": [
    "#data generation functions\n",
    "import random\n",
    "def data_generator(refs_items,negative_ratio=5):\n",
    "    random.shuffle(refs_items)\n",
    "    for ref_id,item_ids in refs_items:\n",
    "        if len(item_ids)<2: continue \n",
    "        a,b=random.sample(item_ids,2)\n",
    "        yield a,b,1\n",
    "        seen=item_ids.copy()\n",
    "        left=negative_ratio\n",
    "        while left>0:\n",
    "            neg_b=random.randrange(num_items)\n",
    "            left-=1\n",
    "            if not neg_b in seen:\n",
    "                seen.add(neg_b)\n",
    "                yield a, neg_b, 0\n",
    "       \n",
    "def batchify(gen, batch_size):\n",
    "    targets, contexts, labels = [], [], []\n",
    "    count=0\n",
    "    while True:\n",
    "        for a, b, label in gen():\n",
    "            targets.append(a)\n",
    "            contexts.append(b)\n",
    "            labels.append(label)\n",
    "            count+=1\n",
    "            if count > batch_size:\n",
    "                yield [np.asarray(targets), np.asarray(contexts)], np.asarray(labels)\n",
    "                count=0\n",
    "                del targets[:]\n",
    "                del contexts[:]\n",
    "                del labels[:]\n",
    "print next(batchify(lambda: data_generator(refs_items), batch_size=100))\n"
   ]
  },
  {
   "cell_type": "code",
   "execution_count": 232,
   "metadata": {
    "scrolled": true
   },
   "outputs": [],
   "source": [
    "#generate a skipgram word2vec model\n",
    "def get_model(vocab_size=500,embed_size=50):\n",
    "    input_target=Input((1,))\n",
    "    input_context=Input((1,))\n",
    "    embedding=Embedding(vocab_size, embed_size,input_length=1, embeddings_initializer='glorot_uniform',\n",
    "                        name='embedding')\n",
    "    target = embedding(input_target) #look up an embedding vector \n",
    "    target = Reshape((embed_size, 1))(target)\n",
    "    context = embedding(input_context)\n",
    "    context = Reshape((embed_size, 1))(context)\n",
    "\n",
    "    dot_product = merge([target, context], mode='dot', dot_axes=1)\n",
    "    dot_product = Reshape((1,))(dot_product)\n",
    "    # add the sigmoid output layer\n",
    "    output = Dense(1, activation='sigmoid')(dot_product)\n",
    "\n",
    "    model = Model(input=[input_target, input_context], output=output)\n",
    "    model.compile(loss='mse', optimizer='nadam',metrics=['accuracy'])\n",
    "    return model"
   ]
  },
  {
   "cell_type": "code",
   "execution_count": 233,
   "metadata": {},
   "outputs": [
    {
     "name": "stdout",
     "output_type": "stream",
     "text": [
      "____________________________________________________________________________________________________\n",
      "Layer (type)                     Output Shape          Param #     Connected to                     \n",
      "====================================================================================================\n",
      "input_47 (InputLayer)            (None, 1)             0                                            \n",
      "____________________________________________________________________________________________________\n",
      "input_48 (InputLayer)            (None, 1)             0                                            \n",
      "____________________________________________________________________________________________________\n",
      "embedding (Embedding)            (None, 1, 20)         10000       input_47[0][0]                   \n",
      "                                                                   input_48[0][0]                   \n",
      "____________________________________________________________________________________________________\n",
      "reshape_54 (Reshape)             (None, 20, 1)         0           embedding[0][0]                  \n",
      "____________________________________________________________________________________________________\n",
      "reshape_55 (Reshape)             (None, 20, 1)         0           embedding[1][0]                  \n",
      "____________________________________________________________________________________________________\n",
      "merge_18 (Merge)                 (None, 1, 1)          0           reshape_54[0][0]                 \n",
      "                                                                   reshape_55[0][0]                 \n",
      "____________________________________________________________________________________________________\n",
      "reshape_56 (Reshape)             (None, 1)             0           merge_18[0][0]                   \n",
      "____________________________________________________________________________________________________\n",
      "dense_18 (Dense)                 (None, 1)             2           reshape_56[0][0]                 \n",
      "====================================================================================================\n",
      "Total params: 10,002\n",
      "Trainable params: 10,002\n",
      "Non-trainable params: 0\n",
      "____________________________________________________________________________________________________\n",
      "None\n"
     ]
    },
    {
     "name": "stderr",
     "output_type": "stream",
     "text": [
      "/Users/luliu/anaconda/lib/python2.7/site-packages/ipykernel/__main__.py:12: UserWarning: The `merge` function is deprecated and will be removed after 08/2017. Use instead layers from `keras.layers.merge`, e.g. `add`, `concatenate`, etc.\n",
      "/Users/luliu/anaconda/lib/python2.7/site-packages/ipykernel/__main__.py:17: UserWarning: Update your `Model` call to the Keras 2 API: `Model(outputs=Tensor(\"de..., inputs=[<tf.Tenso...)`\n"
     ]
    }
   ],
   "source": [
    "model=get_model(vocab_size=500,embed_size=20)\n",
    "print model.summary()"
   ]
  },
  {
   "cell_type": "code",
   "execution_count": 234,
   "metadata": {},
   "outputs": [
    {
     "name": "stdout",
     "output_type": "stream",
     "text": [
      "[1 0 0 ..., 0 0 1]\n"
     ]
    }
   ],
   "source": [
    "#check data validity\n",
    "print next(batchify(lambda: data_generator(refs_items), batch_size=1000))[1]"
   ]
  },
  {
   "cell_type": "code",
   "execution_count": 235,
   "metadata": {
    "scrolled": true
   },
   "outputs": [
    {
     "data": {
      "text/plain": [
       "<keras.callbacks.History at 0x1a31f39810>"
      ]
     },
     "execution_count": 235,
     "metadata": {},
     "output_type": "execute_result"
    }
   ],
   "source": [
    "model.fit_generator(\n",
    "    #works best when the batch size = vocab size \n",
    "    batchify(lambda: data_generator(refs_items), 512), \n",
    "    epochs=40,\n",
    "    steps_per_epoch=1000,\n",
    "    verbose=0,\n",
    "    callbacks=[TQDMNotebookCallback(leave_inner=True,leave_outer=True)]\n",
    ")\n",
    "#training result is differnt (initialization is different)\n",
    "#converges quickly (within 20 epochs )\n",
    "#best result is loss=0.06"
   ]
  },
  {
   "cell_type": "code",
   "execution_count": 222,
   "metadata": {},
   "outputs": [
    {
     "data": {
      "text/plain": [
       "['acc', 'loss']"
      ]
     },
     "execution_count": 222,
     "metadata": {},
     "output_type": "execute_result"
    }
   ],
   "source": [
    "acc= model.history.history['acc']\n",
    "loss= model.history.history"
   ]
  },
  {
   "cell_type": "code",
   "execution_count": 236,
   "metadata": {},
   "outputs": [
    {
     "name": "stdout",
     "output_type": "stream",
     "text": [
      "1.0 (500, 20)\n"
     ]
    }
   ],
   "source": [
    "def get_normalized_weights(weights):\n",
    "    lens = np.linalg.norm(weights, axis=1)\n",
    "    normalized = (weights.T / lens).T\n",
    "    print np.linalg.norm(normalized[0]), normalized.shape\n",
    "    return normalized\n",
    "\n",
    "\n",
    "embed = model.get_layer('embedding')\n",
    "weights = embed.get_weights()[0]\n",
    "normalized=get_normalized_weights(weights)"
   ]
  },
  {
   "cell_type": "code",
   "execution_count": 237,
   "metadata": {
    "collapsed": true
   },
   "outputs": [],
   "source": [
    "#check nearest neighbors to see it works "
   ]
  },
  {
   "cell_type": "code",
   "execution_count": 238,
   "metadata": {},
   "outputs": [
    {
     "name": "stdout",
     "output_type": "stream",
     "text": [
      "[373 143 341 254 330 476 495 110 151  90 117 177  26 335 449 427 388  75\n",
      " 167  53]\n",
      "373 This Side of Paradise 0.0\n",
      "143 The Bell Jar 0.715775\n",
      "341 The Screwtape Letters 0.738604\n",
      "254 United States Code 0.761388\n",
      "330 Elite (video game) 0.771314\n",
      "476 Homage to Catalonia 0.778723\n",
      "495 A Scanner Darkly 0.787228\n",
      "110 Design Patterns 0.802366\n",
      "151 A Bridge Too Far (film) 0.804281\n",
      "90 The Curious Incident of the Dog in the Night-Time 0.820855\n",
      "117 Little Women 0.823194\n",
      "177 Their Eyes Were Watching God 0.841646\n",
      "26 Porno (novel) 0.853038\n",
      "335 So Long, and Thanks for All the Fish 0.859115\n",
      "449 A Separate Peace 0.872955\n",
      "427 Bone (comics) 0.873278\n",
      "388 Native Son 0.874562\n",
      "75 Infinite Jest 0.879156\n",
      "167 The Invisible Man 0.893509\n",
      "53 The Old Man and the Sea 0.89886\n"
     ]
    }
   ],
   "source": [
    "#find neighbors in the vector space \n",
    "def find_neighbors(M,item_name,k):\n",
    "    item_id=item_to_id[item_name]\n",
    "    diff=M-M[item_id]\n",
    "    distances=np.linalg.norm(diff,axis=1)\n",
    "    #print distances\n",
    "    closest=np.argsort(distances)[:k]\n",
    "    print closest\n",
    "    for c in closest:\n",
    "        print c, item_list[c][0],distances[c]\n",
    "find_neighbors(normalized,\"This Side of Paradise\",20) "
   ]
  },
  {
   "cell_type": "code",
   "execution_count": 168,
   "metadata": {},
   "outputs": [],
   "source": [
    "def map_to_2d(M):\n",
    "    model = TSNE(n_components=2, random_state=0)\n",
    "    return model.fit_transform(M)"
   ]
  },
  {
   "cell_type": "code",
   "execution_count": 169,
   "metadata": {
    "scrolled": true
   },
   "outputs": [
    {
     "name": "stdout",
     "output_type": "stream",
     "text": [
      "500\n"
     ]
    },
    {
     "data": {
      "image/png": "[encoded data removed]",
      "text/plain": [
       "<matplotlib.figure.Figure at 0x1a2d262510>"
      ]
     },
     "metadata": {},
     "output_type": "display_data"
    }
   ],
   "source": [
    "def visualize_data(normalized):\n",
    "    xy=map_to_2d(normalized)\n",
    "    print len(xy)\n",
    "    plt.scatter(xy[:,0], xy[:,1])\n",
    "    plt.show()\n",
    "    return xy\n",
    "xy=visualize_data(normalized)"
   ]
  },
  {
   "cell_type": "code",
   "execution_count": 59,
   "metadata": {},
   "outputs": [],
   "source": [
    "#create a large bitmap with all the book cover images on it\n",
    "def generate_giant_poster(poster_name,items,xy):    \n",
    "    w,h=144,220 #dimensions of a single poster \n",
    "    size=30 #use a 30*30 grid to display all 500 books \n",
    "    res=[]\n",
    "    #neighbors coordinates for placing overlap images\n",
    "    NEIGHBORS=[(x,y) for x in range(-2,3) for y in range(-2,3) if not (x==y==0)] \n",
    "    x_min = xy.T[0].min()\n",
    "    y_min = xy.T[1].min()\n",
    "    x_max = xy.T[0].max()\n",
    "    y_max = xy.T[1].max()\n",
    "    img=Image.new('RGB', (size*w,size*h))\n",
    "    drw=ImageDraw.Draw(img)\n",
    "    taken=[[False]*(size+1) for _ in range(size+1)] #boolean matrix to keep track of whether a grid is taken\n",
    "    failure_count=0\n",
    "    for item, coord in zip(items,xy):\n",
    "        poster = Image.open(os.path.join(image_cache, item[1]))\n",
    "        try: \n",
    "            poster.thumbnail((w,h),Image.ANTIALIAS) #use a high-quality downsampling filter to resize \n",
    "        except IOError as err:\n",
    "            print err, item[1]\n",
    "            pass\n",
    "\n",
    "        x=int(size*(coord[0]-x_min)/(x_max-x_min))\n",
    "        y=int(size*(coord[1]-y_min)/(y_max-y_min))\n",
    "        if taken[x][y]:\n",
    "            found=False\n",
    "            for dx,dy in NEIGHBORS:\n",
    "                u,v=x+dx,y+dy\n",
    "                if 0<=u<=size and 0<=v<=size and not taken[u][v]:\n",
    "                    x,y=u,v\n",
    "                    found=True \n",
    "                    break\n",
    "            if not found:\n",
    "                failure_count+=1\n",
    "        taken[x][y]=True \n",
    "        drw.rectangle((x*w,y*h,(x+1)*w,(y+1)*h),'white')\n",
    "        res.append((item[0], item[1], x*w,y*h)) #save title, image_name, coordinates\n",
    "        img.paste(poster,box=(x*w,y*h))\n",
    "    img.save(open(poster_name+'.png', 'wb'))\n",
    "    print 'could not find spot for ', failure_count, 'images'\n",
    "    return res"
   ]
  },
  {
   "cell_type": "code",
   "execution_count": 60,
   "metadata": {},
   "outputs": [
    {
     "name": "stdout",
     "output_type": "stream",
     "text": [
      "could not find spot for  0 images\n"
     ]
    }
   ],
   "source": [
    "res=generate_giant_poster('relu_skipgram_book_poster',item_list,xy)"
   ]
  },
  {
   "cell_type": "markdown",
   "metadata": {},
   "source": [
    "write the result back into the database to power the demo on webpage"
   ]
  },
  {
   "cell_type": "code",
   "execution_count": 265,
   "metadata": {},
   "outputs": [],
   "source": [
    "cursor = postgres_conn.cursor()\n",
    "cursor.execute('DROP TABLE IF EXISTS w2v_book_recommender')\n",
    "cursor.execute('CREATE TABLE w2v_book_recommender ('\n",
    "               '    wikipedia_id TEXT PRIMARY KEY,'\n",
    "               '    image TEXT,'\n",
    "               '    x FLOAT,'\n",
    "               '    y FLOAT,'\n",
    "               '    vec FLOAT[] NOT NULL DEFAULT \\'{}\\''\n",
    "               ')')\n",
    "#gin indexing for array values \n",
    "cursor.execute('CREATE INDEX w2v_book_recommender_vec ON w2v_book_recommender USING gin(vec)')\n",
    "#text_pattern_ops allows pattern matching \n",
    "cursor.execute('CREATE INDEX w2v_book_recommender_name_pattern ON w2v_book_recommender USING btree(lower(wikipedia_id) text_pattern_ops)')\n"
   ]
  },
  {
   "cell_type": "code",
   "execution_count": 266,
   "metadata": {},
   "outputs": [],
   "source": [
    "for (item_title, image_name,x,y),vec in zip(res,normalized):\n",
    "    cursor.execute('INSERT INTO w2v_book_recommender (wikipedia_id, image, x, y, vec) '\n",
    "                   'VALUES (%s, %s, %s, %s, %s)',(item_title,image_name, x, y, [float(v) for v in vec]))\n",
    "                             "
   ]
  },
  {
   "cell_type": "code",
   "execution_count": 267,
   "metadata": {
    "collapsed": true
   },
   "outputs": [],
   "source": [
    "postgres_conn.commit()\n",
    "cursor.close()"
   ]
  },
  {
   "cell_type": "code",
   "execution_count": 70,
   "metadata": {
    "collapsed": true
   },
   "outputs": [],
   "source": [
    "#get x,y ,image from w2v_book_recommender table and regenerate the poster \n",
    "postgres_conn = psycopg2.connect('dbname=my_website_developmentdb user=luliu')\n",
    "cursor = postgres_conn.cursor()\n",
    "cursor.execute('SELECT x,y,image from w2v_book_recommender')"
   ]
  },
  {
   "cell_type": "code",
   "execution_count": 71,
   "metadata": {},
   "outputs": [],
   "source": [
    "def generate_poster_from_database(cursor,poster_name):\n",
    "    w,h,size=144,220,30\n",
    "    img=Image.new('RGB', (size*w,size*h))\n",
    "    drw=ImageDraw.Draw(img)\n",
    "    for x,y,image_name in cursor:\n",
    "        x,y=int(x),int(y)\n",
    "        book_cover = Image.open(os.path.join(image_cache, image_name))\n",
    "        try: \n",
    "            book_cover.thumbnail((w,h),Image.ANTIALIAS) #use a high-quality downsampling filter to resize \n",
    "        except IOError as err:\n",
    "            print err, item[1]\n",
    "            pass\n",
    "        drw.rectangle((x,y,x+w,y+h),'white')\n",
    "        img.paste(book_cover,box=(x,y))\n",
    "    img.save(open(poster_name+'.png', 'wb'))\n",
    "    "
   ]
  },
  {
   "cell_type": "code",
   "execution_count": 72,
   "metadata": {},
   "outputs": [],
   "source": [
    "generate_poster_from_database(cursor,'book_recommendation_skipgram')"
   ]
  },
  {
   "cell_type": "code",
   "execution_count": null,
   "metadata": {
    "collapsed": true
   },
   "outputs": [],
   "source": []
  }
 ],
 "metadata": {
  "anaconda-cloud": {},
  "kernelspec": {
   "display_name": "Python 3",
   "language": "python",
   "name": "python3"
  },
  "language_info": {
   "codemirror_mode": {
    "name": "ipython",
    "version": 3
   },
   "file_extension": ".py",
   "mimetype": "text/x-python",
   "name": "python",
   "nbconvert_exporter": "python",
   "pygments_lexer": "ipython3",
   "version": "3.6.3"
  },
  "widgets": {
   "state": {
    "01abc4c1ccdf45d2a32526fbcd3dbe08": {
     "views": [
      {
       "cell_index": 23
      }
     ]
    },
    "028b730f035848bbafad95861f62333d": {
     "views": [
      {
       "cell_index": 23
      }
     ]
    },
    "032fe4719d8142a89782b250c15a2291": {
     "views": [
      {
       "cell_index": 24
      }
     ]
    },
    "03a2ecf9cf1c4105b0e0c643ed4f885c": {
     "views": [
      {
       "cell_index": 23
      }
     ]
    },
    "05e7fe4ee6e6422c9f5a3a7f61d4426a": {
     "views": [
      {
       "cell_index": 24
      }
     ]
    },
    "063c6c6625c4469f8fb81bfef861e5aa": {
     "views": [
      {
       "cell_index": 24
      }
     ]
    },
    "07163ba469a84efa889b3fa0023f378f": {
     "views": [
      {
       "cell_index": 24
      }
     ]
    },
    "088cfaa9a6a24597a6535bb28aed0e7a": {
     "views": [
      {
       "cell_index": 24
      }
     ]
    },
    "092610ae3397452391988227d5324456": {
     "views": [
      {
       "cell_index": 24
      }
     ]
    },
    "09919186d7664ec4ab924ebc01573bd2": {
     "views": [
      {
       "cell_index": 24
      }
     ]
    },
    "0a86fd2676044ad0bdfd968c914b4d1a": {
     "views": [
      {
       "cell_index": 24
      }
     ]
    },
    "0bad99105287497ea4e9e61d6f0e144d": {
     "views": [
      {
       "cell_index": 24
      }
     ]
    },
    "0cc5c5258552459f9540e87f766db22f": {
     "views": [
      {
       "cell_index": 24
      }
     ]
    },
    "10064acede544f6284d193d827df42d9": {
     "views": [
      {
       "cell_index": 24
      }
     ]
    },
    "1011e0192765422d94d0bb5e3ec41085": {
     "views": [
      {
       "cell_index": 23
      }
     ]
    },
    "1073ea60cdba4c129d391bba1567790d": {
     "views": [
      {
       "cell_index": 23
      }
     ]
    },
    "11af3196b0ec4759a7cfcd65a2a0e1db": {
     "views": [
      {
       "cell_index": 24
      }
     ]
    },
    "12d68edcb8764ef599dd18b5282f2500": {
     "views": [
      {
       "cell_index": 24
      }
     ]
    },
    "13338064a16e4d98809e3b62a9f0c7a4": {
     "views": [
      {
       "cell_index": 24
      }
     ]
    },
    "139666d7136b412eb5cd150247ae4479": {
     "views": [
      {
       "cell_index": 24
      }
     ]
    },
    "13b3488fb542440d9183f9e41b0b178a": {
     "views": [
      {
       "cell_index": 24
      }
     ]
    },
    "157a11cfa70c473dacfd3f495b98784f": {
     "views": [
      {
       "cell_index": 24
      }
     ]
    },
    "15ace71bf0c440088402b7b9b3112870": {
     "views": [
      {
       "cell_index": 24
      }
     ]
    },
    "17f1580cfe2e4a788c6e0da42e403350": {
     "views": [
      {
       "cell_index": 24
      }
     ]
    },
    "1857d5f79ba443629b94882851ac5be5": {
     "views": [
      {
       "cell_index": 24
      }
     ]
    },
    "19497842b37049dbbe2688f8158639c3": {
     "views": [
      {
       "cell_index": 24
      }
     ]
    },
    "199e410c71404da1b7a80f54a59b05e1": {
     "views": [
      {
       "cell_index": 23
      }
     ]
    },
    "1cf61661bb62493e9ca9b5a9b35e285f": {
     "views": [
      {
       "cell_index": 24
      }
     ]
    },
    "1d4dc487171846778b9ee9a4082fc344": {
     "views": [
      {
       "cell_index": 23
      }
     ]
    },
    "1de1f12f2ba145479408dcdc0d1a4f72": {
     "views": [
      {
       "cell_index": 23
      }
     ]
    },
    "1fcca1be4dfa403fac404d881abe7e3a": {
     "views": [
      {
       "cell_index": 24
      }
     ]
    },
    "21298200f39b4f8bb7b66c2991a74e4d": {
     "views": [
      {
       "cell_index": 24
      }
     ]
    },
    "247cd26168db46dbb4ab2a3617ea1afe": {
     "views": [
      {
       "cell_index": 24
      }
     ]
    },
    "2481268a3f7941b4aac81ab5b87c38dd": {
     "views": [
      {
       "cell_index": 24
      }
     ]
    },
    "2531335fb4124e4d9fb8584098f8d345": {
     "views": [
      {
       "cell_index": 24
      }
     ]
    },
    "2581ee83b05e43eaac372e78d05577ae": {
     "views": [
      {
       "cell_index": 24
      }
     ]
    },
    "29eff24612ee43119e1b46cd963ba42a": {
     "views": [
      {
       "cell_index": 24
      }
     ]
    },
    "2a3214909ebd400bab09552b47bee516": {
     "views": [
      {
       "cell_index": 24
      }
     ]
    },
    "2adf492baade4632a5e318a0dc13484d": {
     "views": [
      {
       "cell_index": 24
      }
     ]
    },
    "2b4edcf32d074ffe90e038cf814daa19": {
     "views": [
      {
       "cell_index": 23
      }
     ]
    },
    "2c08982fb8c145b6a9a44fb56d08816d": {
     "views": [
      {
       "cell_index": 24
      }
     ]
    },
    "2c37667174ad46e0af0a9f84a0179523": {
     "views": [
      {
       "cell_index": 23
      }
     ]
    },
    "2d07e20ee9b34722ab805e4b6dfff076": {
     "views": [
      {
       "cell_index": 23
      }
     ]
    },
    "2de7a81b70334a5e92c8d7cd8cf8fac9": {
     "views": [
      {
       "cell_index": 24
      }
     ]
    },
    "2fd1da6354aa4d7ebe009cf89f1b59e7": {
     "views": [
      {
       "cell_index": 24
      }
     ]
    },
    "30c0591cd3c84208bbaf86b0bfc14945": {
     "views": [
      {
       "cell_index": 23
      }
     ]
    },
    "31af5ea676634308828890794ca5776b": {
     "views": [
      {
       "cell_index": 23
      }
     ]
    },
    "32220f399e3c49b9b2423b1d2ed5bf59": {
     "views": [
      {
       "cell_index": 24
      }
     ]
    },
    "3402294f51834377a9ceaf0ed806c568": {
     "views": [
      {
       "cell_index": 24
      }
     ]
    },
    "34675113c1ba478f8e088c3bf7830063": {
     "views": [
      {
       "cell_index": 24
      }
     ]
    },
    "3491cd24cc1b42139da0505e5f6a63ef": {
     "views": [
      {
       "cell_index": 24
      }
     ]
    },
    "383e3c5aa19a4fc3b64acfe06bb78c26": {
     "views": [
      {
       "cell_index": 24
      }
     ]
    },
    "39dfc2db07de4be09a615e95d71c3716": {
     "views": [
      {
       "cell_index": 24
      }
     ]
    },
    "3bf6c0d6b21e4107a0768681b7c379f6": {
     "views": [
      {
       "cell_index": 24
      }
     ]
    },
    "3d0b7c55235644da94883f30603538ec": {
     "views": [
      {
       "cell_index": 24
      }
     ]
    },
    "3e343463f460481bb2c0921cb18a4a6b": {
     "views": [
      {
       "cell_index": 24
      }
     ]
    },
    "3e7048aba8ed40709c108bdc78b3b0ad": {
     "views": [
      {
       "cell_index": 23
      }
     ]
    },
    "3f0c8b1fe364401da6f502621062f346": {
     "views": [
      {
       "cell_index": 24
      }
     ]
    },
    "3f4ddf75580544c79438ca4d0c40af83": {
     "views": [
      {
       "cell_index": 24
      }
     ]
    },
    "407c68e861444fc1af9d95ed62538f61": {
     "views": [
      {
       "cell_index": 24
      }
     ]
    },
    "40a6bd74552a482a8abd6058c62537b1": {
     "views": [
      {
       "cell_index": 24
      }
     ]
    },
    "439b6810545543b3a9ca794927546ce5": {
     "views": [
      {
       "cell_index": 24
      }
     ]
    },
    "442b91a027a54b17b088ced0f2fcc67f": {
     "views": [
      {
       "cell_index": 24
      }
     ]
    },
    "44ca0a1ff57f48af9cfdd7c754be9a0b": {
     "views": [
      {
       "cell_index": 24
      }
     ]
    },
    "45a868e0217d46e9919f01636f5f8eba": {
     "views": [
      {
       "cell_index": 24
      }
     ]
    },
    "45f4e81b4d05413387594e5bb879340e": {
     "views": [
      {
       "cell_index": 23
      }
     ]
    },
    "461a9c26b4814e98be8b5379da2707a4": {
     "views": [
      {
       "cell_index": 24
      }
     ]
    },
    "47da8ceadf9242ecb304b717cb4ebd61": {
     "views": [
      {
       "cell_index": 24
      }
     ]
    },
    "4881e188edc54946b5cb30ef9dcb778b": {
     "views": [
      {
       "cell_index": 24
      }
     ]
    },
    "4ccfbb724ce840b4ae3d56ddd8faca0a": {
     "views": [
      {
       "cell_index": 24
      }
     ]
    },
    "4d5d32a2df8e4274b87fd1c341aa8107": {
     "views": [
      {
       "cell_index": 23
      }
     ]
    },
    "4ee6eb585b8248059b7b5285263ffa83": {
     "views": [
      {
       "cell_index": 24
      }
     ]
    },
    "51e00ab4b2c64b089e0353f26d045278": {
     "views": [
      {
       "cell_index": 24
      }
     ]
    },
    "522d57a7d6d74b58bec8ca83dfaab269": {
     "views": [
      {
       "cell_index": 24
      }
     ]
    },
    "530e318c97f243fb98ea548ff6317e92": {
     "views": [
      {
       "cell_index": 24
      }
     ]
    },
    "54563225bc314501ab16a58344f6c43f": {
     "views": [
      {
       "cell_index": 24
      }
     ]
    },
    "54c7db35295c4af489a4915df5cd61ec": {
     "views": [
      {
       "cell_index": 24
      }
     ]
    },
    "552087d62e21499ca97ba0c3f59c1fcb": {
     "views": [
      {
       "cell_index": 24
      }
     ]
    },
    "563331f2de3b4bbdad082b68400de2a2": {
     "views": [
      {
       "cell_index": 24
      }
     ]
    },
    "570103e627f44bf493ff96c6ad7530e5": {
     "views": [
      {
       "cell_index": 24
      }
     ]
    },
    "58452883491a40c0a8987f6adffd5021": {
     "views": [
      {
       "cell_index": 24
      }
     ]
    },
    "5853d5ba9ae545fca6a18efcb5c0d452": {
     "views": [
      {
       "cell_index": 24
      }
     ]
    },
    "59614fffc50f43f198f7e6e7e1c52ab6": {
     "views": [
      {
       "cell_index": 24
      }
     ]
    },
    "5a6c4498c53f4d2997e4f4b7dbb05eb8": {
     "views": [
      {
       "cell_index": 24
      }
     ]
    },
    "5ba8a3441805434aa388b92b8635ae85": {
     "views": [
      {
       "cell_index": 24
      }
     ]
    },
    "5df38f925d49401bbd8b7496a8f1a831": {
     "views": [
      {
       "cell_index": 24
      }
     ]
    },
    "60c8ce75b6db4e52bf4618b421cc3bb8": {
     "views": [
      {
       "cell_index": 23
      }
     ]
    },
    "63e0093ace9b4e8f9cdefe7464dfb9dd": {
     "views": [
      {
       "cell_index": 24
      }
     ]
    },
    "64c5898af8d840859d4c7a3b2c116a4f": {
     "views": [
      {
       "cell_index": 24
      }
     ]
    },
    "655cdb143d2d4ee99d0bdcb339254218": {
     "views": [
      {
       "cell_index": 23
      }
     ]
    },
    "6592b602766c4b56a9f4109909c179c5": {
     "views": [
      {
       "cell_index": 23
      }
     ]
    },
    "664600c26a334afa958a2d0d0628d7a7": {
     "views": [
      {
       "cell_index": 23
      }
     ]
    },
    "67103eb6c6d549e985b59e3d91e382a9": {
     "views": [
      {
       "cell_index": 23
      }
     ]
    },
    "675b2258126240a1a5a7f38fd16047dc": {
     "views": [
      {
       "cell_index": 24
      }
     ]
    },
    "67618568a310409f9ec539a0405a9571": {
     "views": [
      {
       "cell_index": 23
      }
     ]
    },
    "695e61064ba8453db98461cf54d0368b": {
     "views": [
      {
       "cell_index": 24
      }
     ]
    },
    "69f86ba5070347b2a3cd6ca3f34df0dc": {
     "views": [
      {
       "cell_index": 23
      }
     ]
    },
    "6a988aa6fa934e75bcecbcf6c2a00196": {
     "views": [
      {
       "cell_index": 23
      }
     ]
    },
    "6a9a45edb241455d9d5887d4ee600224": {
     "views": [
      {
       "cell_index": 23
      }
     ]
    },
    "6bcb6368aa0247b78a656415519fdf1e": {
     "views": [
      {
       "cell_index": 24
      }
     ]
    },
    "6c3499ea2e064779b783b647b4a3f45d": {
     "views": [
      {
       "cell_index": 23
      }
     ]
    },
    "6c8c077679f346849c980eba67900d13": {
     "views": [
      {
       "cell_index": 24
      }
     ]
    },
    "6d53be697f2e45b883d2c1344c6ee58a": {
     "views": [
      {
       "cell_index": 24
      }
     ]
    },
    "6e14ee41ded643d7a48e7787de2d45d1": {
     "views": [
      {
       "cell_index": 24
      }
     ]
    },
    "6f118d29155c4bb2a1c6aec81c812f17": {
     "views": [
      {
       "cell_index": 24
      }
     ]
    },
    "6f28db3e176d476ca968d573305082c2": {
     "views": [
      {
       "cell_index": 24
      }
     ]
    },
    "6fd46296c5e84c60bcaf34a7679a13c0": {
     "views": [
      {
       "cell_index": 24
      }
     ]
    },
    "6ffbae1a05e14eab856da8d2a2f17b05": {
     "views": [
      {
       "cell_index": 24
      }
     ]
    },
    "710e37c32c9d4308b194237391d5f833": {
     "views": [
      {
       "cell_index": 24
      }
     ]
    },
    "716129b2ea1e448da02977d35435e8a6": {
     "views": [
      {
       "cell_index": 24
      }
     ]
    },
    "72060b1303f241dc9d08519e088875a7": {
     "views": [
      {
       "cell_index": 23
      }
     ]
    },
    "72d2a100d73c4cdc9903ebc2df48ae0c": {
     "views": [
      {
       "cell_index": 24
      }
     ]
    },
    "73eeb3b7c269454a8c0f4919cb10384e": {
     "views": [
      {
       "cell_index": 24
      }
     ]
    },
    "73fd7ec95187485583280cb9a17dee0b": {
     "views": [
      {
       "cell_index": 24
      }
     ]
    },
    "7412b70003594cf5a714768465df1dde": {
     "views": [
      {
       "cell_index": 24
      }
     ]
    },
    "74710d9c86d746ae8a08f0e2fef45257": {
     "views": [
      {
       "cell_index": 24
      }
     ]
    },
    "74da0867d09c49728c9e018d5b036508": {
     "views": [
      {
       "cell_index": 24
      }
     ]
    },
    "757e005135c8434795d84f353b6dbd5d": {
     "views": [
      {
       "cell_index": 24
      }
     ]
    },
    "76cd99dfe3624c02a5b854ac8036c383": {
     "views": [
      {
       "cell_index": 24
      }
     ]
    },
    "76fc2dbb20084e299128d9569bd4523a": {
     "views": [
      {
       "cell_index": 24
      }
     ]
    },
    "7706f5a53cd645c6b294fd575b1f8f08": {
     "views": [
      {
       "cell_index": 24
      }
     ]
    },
    "775e5cf0e4ca4de280fa176945e1d421": {
     "views": [
      {
       "cell_index": 24
      }
     ]
    },
    "779be95cb3be4b24bb50aa45913cce04": {
     "views": [
      {
       "cell_index": 24
      }
     ]
    },
    "7811f5863ddd4a1c93c9732f9931951d": {
     "views": [
      {
       "cell_index": 24
      }
     ]
    },
    "7895a5c2f65a45e9b87ecaccf32cffb3": {
     "views": [
      {
       "cell_index": 24
      }
     ]
    },
    "7bfe47734a4548a196ccec3dd050e7d8": {
     "views": [
      {
       "cell_index": 23
      }
     ]
    },
    "7c0f4859a12345e29e9c9ee2ec94fa8d": {
     "views": [
      {
       "cell_index": 24
      }
     ]
    },
    "7c37f02ed5ac41f2a98bd494a83124f0": {
     "views": [
      {
       "cell_index": 24
      }
     ]
    },
    "7d5f0a8c79e64970a1504ab3e7483337": {
     "views": [
      {
       "cell_index": 24
      }
     ]
    },
    "7d69a0b895744d53a06415bdb027d2a5": {
     "views": [
      {
       "cell_index": 24
      }
     ]
    },
    "7ebac25c38874d17a4a5ca627d3d41f9": {
     "views": [
      {
       "cell_index": 23
      }
     ]
    },
    "7f80b4ab06ef4de6a2b6ca3c5a1936c8": {
     "views": [
      {
       "cell_index": 23
      }
     ]
    },
    "820db2c0570a4fcea4b7ce091dd870d5": {
     "views": [
      {
       "cell_index": 23
      }
     ]
    },
    "841b391be4b64c4ba91996c5b3d7a932": {
     "views": [
      {
       "cell_index": 24
      }
     ]
    },
    "846a70ad9c4c4ce39d34d5a206f79f51": {
     "views": [
      {
       "cell_index": 24
      }
     ]
    },
    "865419c5e0654c21902838856733f58a": {
     "views": [
      {
       "cell_index": 24
      }
     ]
    },
    "88b7c4e88de34b4ebd5582f9cedd904d": {
     "views": [
      {
       "cell_index": 24
      }
     ]
    },
    "8b5ba6b654cf4811a9f5ba54ed52f8a1": {
     "views": [
      {
       "cell_index": 24
      }
     ]
    },
    "8b72c6e69e794e56abf348cbc01411a0": {
     "views": [
      {
       "cell_index": 23
      }
     ]
    },
    "8dfff3ccca54442585ad1d6b92f23eb9": {
     "views": [
      {
       "cell_index": 24
      }
     ]
    },
    "8e06b9b9cf154a30ab721fdcd8e18864": {
     "views": [
      {
       "cell_index": 24
      }
     ]
    },
    "8e7ac27afb184557b35ede056b372006": {
     "views": [
      {
       "cell_index": 24
      }
     ]
    },
    "8f056c0c70084fb88a20e5342db7384e": {
     "views": [
      {
       "cell_index": 24
      }
     ]
    },
    "9006f0a6b05f417487aed5feb0faba9f": {
     "views": [
      {
       "cell_index": 24
      }
     ]
    },
    "90fa34c8039a4611b2f2f85acbcbb60a": {
     "views": [
      {
       "cell_index": 23
      }
     ]
    },
    "91ec381b07e54d939564bc4247bf3ff9": {
     "views": [
      {
       "cell_index": 24
      }
     ]
    },
    "93b4144419cd41919e37e107fbfb005a": {
     "views": [
      {
       "cell_index": 24
      }
     ]
    },
    "94fe556db4e74a388009fc3b30311ae9": {
     "views": [
      {
       "cell_index": 24
      }
     ]
    },
    "9509345d012946e794c8233719ec0432": {
     "views": [
      {
       "cell_index": 24
      }
     ]
    },
    "95ef86b2428947b2bdea8d67afb2451b": {
     "views": [
      {
       "cell_index": 24
      }
     ]
    },
    "95f1468d82db43be8143c25766885204": {
     "views": [
      {
       "cell_index": 23
      }
     ]
    },
    "9833e466925242fca18258fc4d558ed2": {
     "views": [
      {
       "cell_index": 24
      }
     ]
    },
    "984fbbdcd3944d4b863534b29f0b12d4": {
     "views": [
      {
       "cell_index": 24
      }
     ]
    },
    "98a9ce39d4054fab835176cb069b48f9": {
     "views": [
      {
       "cell_index": 24
      }
     ]
    },
    "993bbf64de3a4a39b1023c879aab1830": {
     "views": [
      {
       "cell_index": 24
      }
     ]
    },
    "9a47bb1fe71c48a791a979d40822f736": {
     "views": [
      {
       "cell_index": 24
      }
     ]
    },
    "9b635e80302b4c26a1853373b4d49e5d": {
     "views": [
      {
       "cell_index": 24
      }
     ]
    },
    "9bcc876da3cf4294964c11c550d4f2d2": {
     "views": [
      {
       "cell_index": 24
      }
     ]
    },
    "9c6888f7dadf4e94abfc1f559382790b": {
     "views": [
      {
       "cell_index": 24
      }
     ]
    },
    "9c9bd8510a03405aa30921c53005c005": {
     "views": [
      {
       "cell_index": 24
      }
     ]
    },
    "9ce40a44261445a5aed871aaeb11554a": {
     "views": [
      {
       "cell_index": 23
      }
     ]
    },
    "9cf95f417542429b9d3820b4c4dfce07": {
     "views": [
      {
       "cell_index": 24
      }
     ]
    },
    "9eb9d01726cc41dda4f82fa85e62cac1": {
     "views": [
      {
       "cell_index": 24
      }
     ]
    },
    "9ee403d94a58434f9330d6c9be36ade9": {
     "views": [
      {
       "cell_index": 24
      }
     ]
    },
    "a0b4a84441ac4bcd92acc26777d2df68": {
     "views": [
      {
       "cell_index": 23
      }
     ]
    },
    "a1173cc3d4264ef18ad4b3ca206006e2": {
     "views": [
      {
       "cell_index": 24
      }
     ]
    },
    "a1a56f9317874d7a8e15505f1ccc8dc0": {
     "views": [
      {
       "cell_index": 24
      }
     ]
    },
    "a2bb5f78e528492eb3d568941752bfa7": {
     "views": [
      {
       "cell_index": 24
      }
     ]
    },
    "a2f556b3d59348eb9dad577f75c759bf": {
     "views": [
      {
       "cell_index": 23
      }
     ]
    },
    "a34cd7750b08472aa3575a1f8e988f37": {
     "views": [
      {
       "cell_index": 23
      }
     ]
    },
    "a41e089165964889b5be2121cf73fb44": {
     "views": [
      {
       "cell_index": 24
      }
     ]
    },
    "a483ae8b81b940d3a71a3f9665a58a4a": {
     "views": [
      {
       "cell_index": 24
      }
     ]
    },
    "a4fbf1b96516451aa1dbd6bec9c921d6": {
     "views": [
      {
       "cell_index": 24
      }
     ]
    },
    "a75d0b6d868248359f0a39257d13e6a4": {
     "views": [
      {
       "cell_index": 24
      }
     ]
    },
    "a8a3bd38c94140caa157229404255a53": {
     "views": [
      {
       "cell_index": 24
      }
     ]
    },
    "a955cf3b09344cfc9ea7b97a408c8652": {
     "views": [
      {
       "cell_index": 24
      }
     ]
    },
    "aa8b0ec7573d4a02b9d27610065c8d8b": {
     "views": [
      {
       "cell_index": 23
      }
     ]
    },
    "abe7a2d21d1144fe9dc4b9706ec961f8": {
     "views": [
      {
       "cell_index": 24
      }
     ]
    },
    "ac28953a11314ac78766d0a970572fa6": {
     "views": [
      {
       "cell_index": 24
      }
     ]
    },
    "aecdef4b98d9455095c23425d6266309": {
     "views": [
      {
       "cell_index": 24
      }
     ]
    },
    "b146c2632b04450b911062cd19ba5df0": {
     "views": [
      {
       "cell_index": 24
      }
     ]
    },
    "b243174440f24a378fbe23b081207cde": {
     "views": [
      {
       "cell_index": 24
      }
     ]
    },
    "b3822fbfc5bc4e3dac188ae80bf5b571": {
     "views": [
      {
       "cell_index": 24
      }
     ]
    },
    "b414287facbc4439a7fb48c340a037a6": {
     "views": [
      {
       "cell_index": 23
      }
     ]
    },
    "b492bb30fe94488d9ddcde5f1ab7196e": {
     "views": [
      {
       "cell_index": 24
      }
     ]
    },
    "b4f2b26124c045aa8ddb6aa438d0cce5": {
     "views": [
      {
       "cell_index": 23
      }
     ]
    },
    "b50ae41829c64748811811f002590196": {
     "views": [
      {
       "cell_index": 23
      }
     ]
    },
    "b7c59d15fb5347b9abbcb8c6f8ea2012": {
     "views": [
      {
       "cell_index": 24
      }
     ]
    },
    "b8abe53dd32f4abeb16943d1944d6c12": {
     "views": [
      {
       "cell_index": 24
      }
     ]
    },
    "b9118f778a6442eca1fca85d67d3d516": {
     "views": [
      {
       "cell_index": 24
      }
     ]
    },
    "b9f05835eed0471a8f29ab06d48f4c1c": {
     "views": [
      {
       "cell_index": 24
      }
     ]
    },
    "bab2fbd4e2eb4931bc9a4cea968825a6": {
     "views": [
      {
       "cell_index": 24
      }
     ]
    },
    "bb01add34e5146ab83ab67687aa75ce4": {
     "views": [
      {
       "cell_index": 24
      }
     ]
    },
    "bb1547c4dbb74ae4b7846f619291bb89": {
     "views": [
      {
       "cell_index": 24
      }
     ]
    },
    "bc255e1c37e64b9185ba838253611b6e": {
     "views": [
      {
       "cell_index": 24
      }
     ]
    },
    "c02852ffc8a548d2afeb124dad8fbcff": {
     "views": [
      {
       "cell_index": 24
      }
     ]
    },
    "c0af6a1d2978478b868add1b3ba24153": {
     "views": [
      {
       "cell_index": 23
      }
     ]
    },
    "c1df8f11fe4d4539a13b6317dca8406d": {
     "views": [
      {
       "cell_index": 24
      }
     ]
    },
    "c2742da735784a6e924593a19e93daf7": {
     "views": [
      {
       "cell_index": 23
      }
     ]
    },
    "c61644f8f0a24765839ba6d0b89f2ac1": {
     "views": [
      {
       "cell_index": 24
      }
     ]
    },
    "c760fb885b5443e095783f173e90835f": {
     "views": [
      {
       "cell_index": 24
      }
     ]
    },
    "c80674c8e412413a9a2c70376ec2834f": {
     "views": [
      {
       "cell_index": 24
      }
     ]
    },
    "c8523591b9fe44b6aef9abaeab6b06c0": {
     "views": [
      {
       "cell_index": 24
      }
     ]
    },
    "c98fa49b1fed45118b694d10c447b637": {
     "views": [
      {
       "cell_index": 24
      }
     ]
    },
    "ca21d920b23644faa68144159b50c373": {
     "views": [
      {
       "cell_index": 23
      }
     ]
    },
    "cdcd019d42d54399ab0dd36f69bfb511": {
     "views": [
      {
       "cell_index": 24
      }
     ]
    },
    "ce737ed23ee243e49c24552a21d3a9a4": {
     "views": [
      {
       "cell_index": 23
      }
     ]
    },
    "ced08017ab8e4dc7bb5e34c11ef5033f": {
     "views": [
      {
       "cell_index": 23
      }
     ]
    },
    "d281c9c778f64b9b96596fe4276d31b0": {
     "views": [
      {
       "cell_index": 24
      }
     ]
    },
    "d2948b722af545dea3c98c5f751e2f5e": {
     "views": [
      {
       "cell_index": 24
      }
     ]
    },
    "d2c8b6ee1a914c94bbcd4d82a9f9d4bf": {
     "views": [
      {
       "cell_index": 24
      }
     ]
    },
    "d8395ac7f8a545b9ad4daa654c04d419": {
     "views": [
      {
       "cell_index": 24
      }
     ]
    },
    "d9651e1c2a394617a79373ab7a38b76a": {
     "views": [
      {
       "cell_index": 24
      }
     ]
    },
    "da6ab063de6545cbb03a969e22c65563": {
     "views": [
      {
       "cell_index": 24
      }
     ]
    },
    "db26c409b87d468ebd9b35a42589e620": {
     "views": [
      {
       "cell_index": 23
      }
     ]
    },
    "db4fc52d19c342cc9339124c9c600918": {
     "views": [
      {
       "cell_index": 24
      }
     ]
    },
    "db8f6f2ca0884c3abbe6c2a339a5f3c0": {
     "views": [
      {
       "cell_index": 24
      }
     ]
    },
    "dd72784492c64e4b832dab2de9fd5bc7": {
     "views": [
      {
       "cell_index": 23
      }
     ]
    },
    "ddc52a3e21e0461890505eac9417e5d3": {
     "views": [
      {
       "cell_index": 24
      }
     ]
    },
    "ddc7e0a4baca4c9ebc08416e1c0cfae7": {
     "views": [
      {
       "cell_index": 24
      }
     ]
    },
    "dddf3b0d0fae422399f982a89f24235d": {
     "views": [
      {
       "cell_index": 24
      }
     ]
    },
    "deca2f718c3242c39312c79bca74ac47": {
     "views": [
      {
       "cell_index": 23
      }
     ]
    },
    "decf0569bea34e21814ff06992fe60ba": {
     "views": [
      {
       "cell_index": 24
      }
     ]
    },
    "df01de40a7c04daf82826e56d9c9cafc": {
     "views": [
      {
       "cell_index": 24
      }
     ]
    },
    "e1280e7b41ab475ebec6bc2d8ba54247": {
     "views": [
      {
       "cell_index": 24
      }
     ]
    },
    "e151798ccb1b409582d2fb55fdf39fbb": {
     "views": [
      {
       "cell_index": 23
      }
     ]
    },
    "e37a3a325e2c4325ad61890ba05e3982": {
     "views": [
      {
       "cell_index": 24
      }
     ]
    },
    "e3e7bbf653164c51bbff54685ac68d79": {
     "views": [
      {
       "cell_index": 24
      }
     ]
    },
    "e59b0cc919124d9ebccae026aeb841d1": {
     "views": [
      {
       "cell_index": 24
      }
     ]
    },
    "e67eff5a01f345ce9bcc3d35fe03c568": {
     "views": [
      {
       "cell_index": 24
      }
     ]
    },
    "e6f01589f9a44b2a921ce904c2626af9": {
     "views": [
      {
       "cell_index": 24
      }
     ]
    },
    "e7e606af9f94497e89c8c9233b199ccf": {
     "views": [
      {
       "cell_index": 24
      }
     ]
    },
    "e9010a0e4902415da7151149c40e9ce3": {
     "views": [
      {
       "cell_index": 24
      }
     ]
    },
    "e986d1138a95442992b985f81c51d270": {
     "views": [
      {
       "cell_index": 24
      }
     ]
    },
    "eb65ba73521341ce83f7d77250d72140": {
     "views": [
      {
       "cell_index": 24
      }
     ]
    },
    "ec4012a8696b4faea5bbb627123790b7": {
     "views": [
      {
       "cell_index": 24
      }
     ]
    },
    "ecc94a160d8548f18c78f2754e8b8160": {
     "views": [
      {
       "cell_index": 24
      }
     ]
    },
    "ed0d9099796945d6843c5d6c43dff8af": {
     "views": [
      {
       "cell_index": 24
      }
     ]
    },
    "ed2cdb1d64e249a1a2641969b3a9a6c3": {
     "views": [
      {
       "cell_index": 24
      }
     ]
    },
    "ed847ffd6a944d56823300c44c526cdc": {
     "views": [
      {
       "cell_index": 24
      }
     ]
    },
    "edfbdb0fb39d41be98c9969ac8c81f92": {
     "views": [
      {
       "cell_index": 23
      }
     ]
    },
    "f0b8ba2d7a4246dcaa9e1173398a654c": {
     "views": [
      {
       "cell_index": 24
      }
     ]
    },
    "f1e209e6a7c844cf92a2ff2bada77819": {
     "views": [
      {
       "cell_index": 24
      }
     ]
    },
    "f2b2ba19e341407b88c1c3151f545f57": {
     "views": [
      {
       "cell_index": 24
      }
     ]
    },
    "f33172540fac44b6b0db1de51fcff448": {
     "views": [
      {
       "cell_index": 24
      }
     ]
    },
    "f7951ed76bb64af483d275042b315414": {
     "views": [
      {
       "cell_index": 24
      }
     ]
    },
    "f7fd3f2a48e94809a28b1d83143d3f39": {
     "views": [
      {
       "cell_index": 24
      }
     ]
    },
    "f8e10732f6f24cb7b1007db069daf702": {
     "views": [
      {
       "cell_index": 24
      }
     ]
    },
    "fa1d23f962cb494b8a0905aa98d961b5": {
     "views": [
      {
       "cell_index": 24
      }
     ]
    },
    "fa1ea8eb2fed46baa8ff353fdeb36ce1": {
     "views": [
      {
       "cell_index": 24
      }
     ]
    },
    "fab5fd7c4a3c48e9b4d37077c3291371": {
     "views": [
      {
       "cell_index": 24
      }
     ]
    },
    "fb0dfdcb98f5479c94ff217300c3fa72": {
     "views": [
      {
       "cell_index": 23
      }
     ]
    },
    "fc15d49a6aef49409679cfde8cdb30fa": {
     "views": [
      {
       "cell_index": 24
      }
     ]
    },
    "fc34f2fccbc241d6909cbbc3d16e837a": {
     "views": [
      {
       "cell_index": 24
      }
     ]
    },
    "fd25ca32f4fd47929220e699525c1189": {
     "views": [
      {
       "cell_index": 24
      }
     ]
    }
   },
   "version": "1.2.0"
  }
 },
 "nbformat": 4,
 "nbformat_minor": 1
}
