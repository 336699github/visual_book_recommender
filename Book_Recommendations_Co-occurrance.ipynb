{
 "cells": [
  {
   "cell_type": "code",
   "execution_count": 3,
   "metadata": {},
   "outputs": [],
   "source": [
    "%matplotlib inline\n",
    "import re\n",
    "import os\n",
    "import numpy as np\n",
    "\n",
    "import psycopg2\n",
    "import psycopg2.extras\n",
    "from itertools import chain\n",
    "from collections import Counter, defaultdict\n",
    "import requests\n",
    "import imageio\n",
    "\n",
    "import matplotlib.pyplot as plt\n",
    "from PIL import Image, ImageDraw, ImageFont\n",
    "import textwrap\n",
    "from io import BytesIO\n",
    "from hashlib import md5\n",
    "from IPython.display import display, HTML\n",
    "\n",
    "from itertools import chain\n",
    "import mwparserfromhell\n",
    "\n",
    "from keras.models import Model,Sequential\n",
    "from keras.layers import Embedding, Dense, Input, Lambda, Reshape, merge, Flatten\n",
    "import keras.backend as K\n",
    "from keras.layers.merge import Dot\n",
    "from sklearn.manifold import TSNE"
   ]
  },
  {
   "cell_type": "markdown",
   "metadata": {},
   "source": [
    "The fetch_image function below fetches an image from wikipedia given a wikipedia id for that image:"
   ]
  },
  {
   "cell_type": "code",
   "execution_count": 4,
   "metadata": {
    "collapsed": true
   },
   "outputs": [],
   "source": [
    "OBJ_STR='book'"
   ]
  },
  {
   "cell_type": "code",
   "execution_count": 5,
   "metadata": {
    "scrolled": true
   },
   "outputs": [
    {
     "data": {
      "text/plain": [
       "True"
      ]
     },
     "execution_count": 5,
     "metadata": {},
     "output_type": "execute_result"
    }
   ],
   "source": [
    "IMAGE_PATH_EN = 'http://upload.wikimedia.org/wikipedia/en/%s/%s/%s'\n",
    "IMAGE_PATH_COMMONS = 'http://upload.wikimedia.org/wikipedia/commons/%s/%s/%s'\n",
    "image_cache = OBJ_STR+'_images'\n",
    "\n",
    "def fetch_image(image_name):\n",
    "    if not image_name: \n",
    "        return False\n",
    "    file_path = os.path.join(image_cache, image_name)\n",
    "    if os.path.isfile(file_path): #if image already exist, simply return \n",
    "        #Image.open(file_path).show()\n",
    "        return True\n",
    "    else:\n",
    "        m = md5() #hash function producing 128 bit hash value from text \n",
    "        m.update(image_name.encode('utf-8'))\n",
    "        c = m.hexdigest()\n",
    "        #print c\n",
    "        path1 = IMAGE_PATH_EN % (c[0], c[0:2], image_name)\n",
    "        #print path\n",
    "        r = requests.get(path1)\n",
    "        if r.status_code == 404:\n",
    "            path2 = IMAGE_PATH_COMMONS % (c[0], c[0:2], image_name)\n",
    "            r = requests.get(path2)\n",
    "            if r.status_code == 404:\n",
    "                #print 'status code 404 retrieving ',image_name\n",
    "                #print 'both paths failed', path1, path2\n",
    "                return False\n",
    "        try:\n",
    "            image = Image.open(BytesIO(r.content))\n",
    "        except IOError:\n",
    "            return False\n",
    "        except ValueError:\n",
    "            return False\n",
    "        try:\n",
    "            image.save(file(file_path, 'w'))\n",
    "        except IOError as err:\n",
    "            print image_name, err.message\n",
    "            return False\n",
    "        image.thumbnail((240, 640), Image.ANTIALIAS)\n",
    "        res = BytesIO()\n",
    "        if image.mode == 'P':\n",
    "            image = image.convert('RGB')\n",
    "        try:\n",
    "            image.save(res, 'WebP', quality=15)\n",
    "        except IOError as err:\n",
    "            print image_name, err.message\n",
    "            return False\n",
    "        #Image.open(file_path).show()\n",
    "        return True\n",
    "\n",
    "fetch_image('TheGreatGatsby_1925jacket.jpeg')"
   ]
  },
  {
   "cell_type": "code",
   "execution_count": 67,
   "metadata": {
    "collapsed": true
   },
   "outputs": [],
   "source": [
    "postgres_conn = psycopg2.connect('dbname=wikidb user=luliu')\n",
    "postgres_cursor = postgres_conn.cursor(cursor_factory=psycopg2.extras.DictCursor)"
   ]
  },
  {
   "cell_type": "markdown",
   "metadata": {},
   "source": [
    "setup a connection to postgres, fetch the 1000 most popular books and then extract for each the book name, the image for the book and the outgoing links from that page"
   ]
  },
  {
   "cell_type": "code",
   "execution_count": 7,
   "metadata": {},
   "outputs": [
    {
     "name": "stdout",
     "output_type": "stream",
     "text": [
      "Getting top books...\n",
      "done\n"
     ]
    }
   ],
   "source": [
    "print 'Getting top %ss...'%(OBJ_STR)\n",
    "postgres_cursor.execute(\n",
    "    \"SELECT wikipedia.*, wikistats.viewcount FROM wikipedia \"\n",
    "    \"JOIN wikistats ON wikipedia.title = wikistats.title WHERE wikipedia.infobox like '%book%' \"\n",
    "    \"ORDER BY wikistats.viewcount DESC limit 1000\"\n",
    ")\n",
    "print 'done'"
   ]
  },
  {
   "cell_type": "code",
   "execution_count": 8,
   "metadata": {},
   "outputs": [
    {
     "name": "stdout",
     "output_type": "stream",
     "text": [
      "Guinness_World_Records.jpg created\n",
      "The_Stranger_(novel).jpg created\n",
      "Lar_Gand.jpg created\n",
      "Encyclopædia_Britannica.jpg created\n",
      "Dirk_Gently's_Holistic_Detective_Agency.jpg created\n",
      "Katana_(comics).jpg created\n",
      "A_Bridge_Too_Far_(film).jpg created\n",
      "Into_the_Wild_(book).jpg created\n",
      "Tank_Girl.jpg created\n",
      "Gary_Larson.jpg created\n",
      "Cat's_Cradle.jpg created\n",
      "Goosebumps.jpg created\n",
      "The_History_of_the_Decline_and_Fall_of_the_Roman_Empire.jpg created\n",
      "Rubaiyat_of_Omar_Khayyam.jpg created\n",
      "The_Idiot.jpg created\n",
      "Beyond_Good_and_Evil.jpg created\n",
      "Magic_Tree_House.jpg created\n",
      "Little_House_on_the_Prairie.jpg created\n",
      "Aubrey–Maturin_series.jpg created\n",
      "The_Devil_and_Daniel_Webster.jpg created\n",
      "Left_Behind.jpg created\n",
      "Anabasis_(Xenophon).jpg created\n",
      "An_Unearthly_Child.jpg created\n",
      "Liar's_Poker.jpg created\n",
      "The_Power_of_Myth.jpg created\n",
      "The_No._1_Ladies'_Detective_Agency.jpg created\n",
      "The_Rise_and_Fall_of_the_Third_Reich.jpg created\n",
      "The_Sign_of_the_Four.jpg created\n",
      "Abi_Titmuss.jpg created\n",
      "Lady_Susan.jpg created\n",
      "Master_and_Commander.jpg created\n",
      "Sprawl_trilogy.jpg created\n",
      "The_Forsyte_Saga.jpg created\n",
      "The_Belgariad.jpg created\n",
      "Bowling_Alone.jpg created\n",
      "Who_Goes_There?.jpg created\n",
      "The_Theory_of_Moral_Sentiments.jpg created\n",
      "List_of_Nikola_Tesla_patents.jpg created\n",
      "The_Colour_of_Magic.jpg created\n",
      "The_Daleks.jpg created\n",
      "Lord_Jim.jpg created\n",
      "The_History_of_Middle-earth.jpg created\n",
      "Nightmares_&_Dreamscapes.jpg created\n",
      "Fear_and_Trembling.jpg created\n",
      "Daemonologie.jpg created\n",
      "Billy_Budd.jpg created\n",
      "Flat_Stanley.jpg created\n",
      "Strange_Tales.jpg created\n",
      "The_Railway_Series.jpg created\n",
      "The_Antichrist_(book).jpg created\n",
      "The_Book_of_Dust.jpg created\n",
      "Icon_(comics).jpg created\n",
      "The_Winter_of_Our_Discontent.jpg created\n",
      "Player's_Handbook.jpg created\n",
      "The_White_Goddess.jpg created\n",
      "Monster_Manual.jpg created\n",
      "Southern_Victory.jpg created\n",
      "The_Indian_in_the_Cupboard.jpg created\n",
      "Junie_B._Jones.jpg created\n",
      "Eats,_Shoots_&_Leaves.jpg created\n",
      "The_Green_Book_(Muammar_Gaddafi).jpg created\n",
      "The_Book_of_the_Courtier.jpg created\n",
      "Space_Odyssey.jpg created\n",
      "Maya_the_Bee.jpg created\n",
      "Stormwatch_(comics).jpg created\n",
      "The_Brave_and_the_Bold.jpg created\n"
     ]
    },
    {
     "data": {
      "text/plain": [
       "1000"
      ]
     },
     "execution_count": 8,
     "metadata": {},
     "output_type": "execute_result"
    }
   ],
   "source": [
    "#create an image file for the book if failed to retrieve from the web \n",
    "def create_image(title):\n",
    "    image_name=title.replace(' ','_')+'.jpg'\n",
    "    file_path = os.path.join(image_cache, image_name)\n",
    "    if os.path.isfile(file_path): #if image already exist, simply return \n",
    "        return image_name\n",
    "    img = Image.new('RGB', (200, 300))\n",
    "    draw = ImageDraw.Draw(img)\n",
    "    draw.text((20, 70), textwrap.fill(title,15) ,font=ImageFont.truetype(\"/Users/luliu/Library/Fonts/Tox Typewriter.ttf\", 20))\n",
    "    img.save(file_path, \"JPEG\")  \n",
    "    return image_name\n",
    "\n",
    "#turn image name into proper image file name for web retrieval \n",
    "def get_clean_image_name(original):\n",
    "    image_name=original.strip()\n",
    "    if not image_name:\n",
    "        return None\n",
    "    re_image_name=re.compile('([\\w\\-\\(\\)\\'\\.,]+\\.(?:jpg|png|jpeg|gif))', re.I|re.M|re.U)\n",
    "    image_name=image_name.replace(' ','_')\n",
    "    result=re_image_name.search(image_name)\n",
    "    if result:\n",
    "        image_name=result.group().strip(\"_\")\n",
    "    try:\n",
    "        if image_name[0].upper()!=image_name[0]: #already capitalized leave untouched\n",
    "            image_name=image_name.capitalize()\n",
    "    except:\n",
    "        print 'has empty image_name string!!!!!!!!!'\n",
    "    return image_name\n",
    "\n",
    "item_list = []\n",
    "for item in postgres_cursor:\n",
    "    wikicode = mwparserfromhell.parse(item['wikitext'])\n",
    "    image_name = None\n",
    "    successful = False #flag for retriveing image online \n",
    "    for template in wikicode.filter_templates():\n",
    "        if template.name.lower().startswith('infobox '):\n",
    "            for param in template.params:\n",
    "                key = param.name.strip()                    \n",
    "                if key == 'image':\n",
    "                    image_name=get_clean_image_name(param.value) \n",
    "                    break\n",
    "    if image_name:\n",
    "        successful = fetch_image(image_name)\n",
    "    if image_name is None or not successful: \n",
    "        #print 'cannot find image for ',item['title']\n",
    "        #print 'creating an image for this item...'\n",
    "        image_name=create_image(item['title'])\n",
    "        print image_name, 'created'\n",
    "    item_list.append((item['title'], image_name, set(unicode(x.title) for x in wikicode.filter_wikilinks()), item['viewcount']))\n",
    "\n",
    "num_items=len(item_list)\n",
    "num_items"
   ]
  },
  {
   "cell_type": "markdown",
   "metadata": {},
   "source": [
    "extract all the outgoing links (refs) and keep the ones that are used more than once, less than 50 times (refs that are shared too often does not provide much information)."
   ]
  },
  {
   "cell_type": "code",
   "execution_count": 42,
   "metadata": {},
   "outputs": [
    {
     "data": {
      "text/plain": [
       "(12517, 59694)"
      ]
     },
     "execution_count": 42,
     "metadata": {},
     "output_type": "execute_result"
    }
   ],
   "source": [
    "ref_counts = Counter()\n",
    "for _, _, refs, _ in item_list:\n",
    "    ref_counts.update(refs)\n",
    "all_shared_refs = [ref for ref, count in ref_counts.items() if 1<count<50] #if a ref is shared by too many books, then its not very important \n",
    "ref_to_id = {ref: idx for idx, ref in enumerate(all_shared_refs)}\n",
    "item_to_id = {title: idx for idx, (title, _, _, _) in enumerate(item_list)}\n",
    "len(all_shared_refs), len(ref_counts)\n"
   ]
  },
  {
   "cell_type": "code",
   "execution_count": 43,
   "metadata": {},
   "outputs": [
    {
     "data": {
      "text/plain": [
       "[u'Category:British novels adapted into films',\n",
       " u'Time (magazine)',\n",
       " u'The New York Times',\n",
       " u'science fiction',\n",
       " u'Category:American novels adapted into films',\n",
       " u'novel',\n",
       " u'Soviet Union',\n",
       " u'Paperback',\n",
       " u'Stephen King',\n",
       " u'Hardcover',\n",
       " u'hardcover',\n",
       " u'United States',\n",
       " u'English language',\n",
       " u'Category:Debut novels',\n",
       " u'Category:Novels adapted into television programs',\n",
       " u'World War II',\n",
       " u'Internet Archive',\n",
       " u'Random House',\n",
       " u'protagonist',\n",
       " u'New York City',\n",
       " u'BBC Radio 4',\n",
       " u'paperback',\n",
       " u'Science fiction',\n",
       " u'Category:Novels first published in serial form',\n",
       " u'BBC',\n",
       " u'Modern Library',\n",
       " u'The Guardian']"
      ]
     },
     "execution_count": 43,
     "metadata": {},
     "output_type": "execute_result"
    }
   ],
   "source": [
    "[ref for ref, count in ref_counts.items() if count>50]"
   ]
  },
  {
   "cell_type": "code",
   "execution_count": 44,
   "metadata": {
    "scrolled": true
   },
   "outputs": [
    {
     "data": {
      "text/plain": [
       "1000"
      ]
     },
     "execution_count": 44,
     "metadata": {},
     "output_type": "execute_result"
    }
   ],
   "source": [
    "#create the book_refs that hold the refs for each book\n",
    "items_refs = defaultdict(set)\n",
    "for item, image, refs, viewcounts in item_list:\n",
    "    item_id = item_to_id[item]\n",
    "    ref_ids = set(ref_to_id.get(ref) for ref in refs if ref_to_id.get(ref) is not None)\n",
    "    items_refs[item_id]|=ref_ids\n",
    "len(items_refs)"
   ]
  },
  {
   "cell_type": "code",
   "execution_count": 45,
   "metadata": {},
   "outputs": [
    {
     "data": {
      "text/plain": [
       "12517"
      ]
     },
     "execution_count": 45,
     "metadata": {},
     "output_type": "execute_result"
    }
   ],
   "source": [
    "#for each ref, the list of books that reference to it \n",
    "refs_items = defaultdict(set)\n",
    "for item_id, ref_ids in items_refs.items():\n",
    "    for ref_id in ref_ids:\n",
    "        refs_items[ref_id].add(item_id)\n",
    "refs_items = list(refs_items.items())\n",
    "len(refs_items)"
   ]
  },
  {
   "cell_type": "markdown",
   "metadata": {},
   "source": [
    "check that the most shared refs are meaningful refs"
   ]
  },
  {
   "cell_type": "code",
   "execution_count": 46,
   "metadata": {
    "scrolled": true
   },
   "outputs": [
    {
     "name": "stdout",
     "output_type": "stream",
     "text": [
      "HarperCollins\n",
      "World War I\n",
      "Entertainment Weekly\n",
      "comic book\n",
      "Publishers Weekly\n",
      "Children's literature\n",
      "fantasy\n",
      "American Library Association\n",
      "The Daily Telegraph\n",
      "Oxford University Press\n"
     ]
    }
   ],
   "source": [
    "sorted_refs=sorted(refs_items,key=lambda item: len(item[1]),reverse=True)\n",
    "for id,_ in sorted_refs[:10]:\n",
    "    print all_shared_refs[id]"
   ]
  },
  {
   "cell_type": "markdown",
   "metadata": {},
   "source": [
    "generate co-occurence matrix, use jaccard similarity to normalize \n",
    "i,j = (#of refs to i and j) /(# of refs to i or j) "
   ]
  },
  {
   "cell_type": "code",
   "execution_count": 48,
   "metadata": {},
   "outputs": [],
   "source": [
    "cooccurrence=np.zeros([num_items,num_items])\n",
    "#todo: could be vectorized \n",
    "for i in range(num_items):    \n",
    "    for j in range(num_items):\n",
    "        try:\n",
    "            cooccurrence[i,j]=float((len(items_refs[i]&items_refs[j])))/len(items_refs[i]|items_refs[j])\n",
    "        except:\n",
    "            print 'all zeros at',i,j \n",
    "            cooccurrence[i,j]=1 #share no references with others\n",
    "            pass \n"
   ]
  },
  {
   "cell_type": "code",
   "execution_count": 21,
   "metadata": {},
   "outputs": [
    {
     "name": "stdout",
     "output_type": "stream",
     "text": [
      "[ 13 292 259 705 530 547 339  92 671 821]\n",
      "13 Fantastic Beasts and Where to Find Them 0.0\n",
      "292 The Structure of Scientific Revolutions 0.507223\n",
      "259 A Feast for Crows 0.53314\n",
      "705 Our Mutual Friend 0.566518\n",
      "530 The Castle of Otranto 0.566604\n",
      "547 The Thorn Birds 0.612004\n",
      "339 Aubrey–Maturin series 0.619253\n",
      "92 Murder on the Orient Express 0.636022\n",
      "671 For Dummies 0.644582\n",
      "821 What If (comics) 0.64738\n"
     ]
    }
   ],
   "source": [
    "#find neighbors in the vector space \n",
    "def find_neighbors(M,item_name,k):\n",
    "    item_id=item_to_id[item_name]\n",
    "    diff=M-M[item_id]\n",
    "    distances=np.linalg.norm(diff,axis=1)\n",
    "    #print distances\n",
    "    closest=np.argsort(distances)[:k]\n",
    "    print closest\n",
    "    for c in closest:\n",
    "        print c, item_list[c][0],distances[c]\n"
   ]
  },
  {
   "cell_type": "code",
   "execution_count": 22,
   "metadata": {},
   "outputs": [],
   "source": [
    "def map_to_2d(M):\n",
    "    model = TSNE(n_components=2, random_state=0)\n",
    "    return model.fit_transform(M)"
   ]
  },
  {
   "cell_type": "code",
   "execution_count": 23,
   "metadata": {
    "scrolled": true
   },
   "outputs": [
    {
     "name": "stdout",
     "output_type": "stream",
     "text": [
      "1000\n"
     ]
    },
    {
     "data": {
      "image/png": "[encoded data removed]",
      "text/plain": [
       "<matplotlib.figure.Figure at 0x1a20853410>"
      ]
     },
     "metadata": {},
     "output_type": "display_data"
    }
   ],
   "source": [
    "def visualize_data(normalized):\n",
    "    xy=map_to_2d(normalized)\n",
    "    print len(xy)\n",
    "    plt.scatter(xy[:,0], xy[:,1])\n",
    "    plt.show()\n",
    "    return xy\n",
    "xy=visualize_data(normalized)"
   ]
  },
  {
   "cell_type": "code",
   "execution_count": 63,
   "metadata": {},
   "outputs": [],
   "source": [
    "#create a large bitmap with all the book cover images on it\n",
    "def generate_giant_poster(poster_name,items,xy):    \n",
    "    w,h=144,220 #dimensions of a single poster \n",
    "    size=50 #use a 50*50 grid to display all 1000 books \n",
    "    res=dict()\n",
    "    #neighbors coordinates for placing overlap images\n",
    "    NEIGHBORS=[(x,y) for x in range(-1,2) for y in range(-1,2) if not (x==y==0)] \n",
    "    x_min = xy.T[0].min()\n",
    "    y_min = xy.T[1].min()\n",
    "    x_max = xy.T[0].max()\n",
    "    y_max = xy.T[1].max()\n",
    "    img=Image.new('RGB', (size*w,size*h))\n",
    "    drw=ImageDraw.Draw(img)\n",
    "    taken=[[False]*(size+1) for _ in range(size+1)] #boolean matrix to keep track of whether a grid is taken\n",
    "    failure_count=0\n",
    "    for item, coord in zip(items,xy):\n",
    "        poster = Image.open(os.path.join(image_cache, item[1]))\n",
    "        try: \n",
    "            poster.thumbnail((w,h),Image.ANTIALIAS) #use a high-quality downsampling filter to resize \n",
    "        except IOError as err:\n",
    "            print err, item[1]\n",
    "            pass\n",
    "\n",
    "        x=int(size*(coord[0]-x_min)/(x_max-x_min))\n",
    "        y=int(size*(coord[1]-y_min)/(y_max-y_min))\n",
    "        if taken[x][y]:\n",
    "            found=False\n",
    "            for dx,dy in NEIGHBORS:\n",
    "                u,v=x+dx,y+dy\n",
    "                if 0<=u<=size and 0<=v<=size and not taken[u][v]:\n",
    "                    x,y=u,v\n",
    "                    found=True \n",
    "                    break\n",
    "            if not found:\n",
    "                failure_count+=1\n",
    "        taken[x][y]=True \n",
    "        drw.rectangle((x*w,y*h,(x+1)*w,(y+1)*h),'white')\n",
    "        res[item[0]]=(x*w,y*h,item[1]) #save the location and size of the poster \n",
    "        img.paste(poster,box=(x*w,y*h))\n",
    "    img.save(open(poster_name+'.png', 'wb'))\n",
    "    print 'could not find spot for ', failure_count, 'images'\n",
    "    return res"
   ]
  },
  {
   "cell_type": "code",
   "execution_count": 51,
   "metadata": {},
   "outputs": [
    {
     "name": "stdout",
     "output_type": "stream",
     "text": [
      "[ 11 372 360 809 683 744  16 561 959 107]\n",
      "11 The Great Gatsby 0.0\n",
      "372 This Side of Paradise 1.30335070909\n",
      "360 Tender Is the Night 1.32394881118\n",
      "809 The House of Mirth 1.37600426038\n",
      "683 Underworld (DeLillo novel) 1.38566851688\n",
      "744 An American Tragedy 1.39402468332\n",
      "16 The Catcher in the Rye 1.39411377387\n",
      "561 Ethan Frome 1.39497031304\n",
      "959 Babbitt (novel) 1.39556549092\n",
      "107 On the Road 1.39745804065\n"
     ]
    }
   ],
   "source": [
    "find_neighbors(cooccurrence,\"The Great Gatsby\",10) "
   ]
  },
  {
   "cell_type": "markdown",
   "metadata": {},
   "source": [
    "use tsne to project to 2d for visualization "
   ]
  },
  {
   "cell_type": "code",
   "execution_count": 50,
   "metadata": {},
   "outputs": [
    {
     "name": "stdout",
     "output_type": "stream",
     "text": [
      "1000\n"
     ]
    },
    {
     "data": {
      "image/png": "[encoded data removed]",
      "text/plain": [
       "<matplotlib.figure.Figure at 0x1a1f8f04d0>"
      ]
     },
     "metadata": {},
     "output_type": "display_data"
    }
   ],
   "source": [
    "xy=visualize_data(cooccurrence)"
   ]
  },
  {
   "cell_type": "code",
   "execution_count": 64,
   "metadata": {},
   "outputs": [
    {
     "name": "stdout",
     "output_type": "stream",
     "text": [
      "could not find spot for  6 images\n"
     ]
    }
   ],
   "source": [
    "res=generate_giant_poster('cooccurrence_to_2d',item_list,xy)"
   ]
  },
  {
   "cell_type": "markdown",
   "metadata": {},
   "source": [
    "write the result back into the database to power the demo on webpage"
   ]
  },
  {
   "cell_type": "code",
   "execution_count": 68,
   "metadata": {},
   "outputs": [],
   "source": [
    "cursor = postgres_conn.cursor()\n",
    "cursor.execute('DROP TABLE IF EXISTS book_co_oc_recommender')\n",
    "cursor.execute('CREATE TABLE book_co_oc_recommender ('\n",
    "               '    wikipedia_id TEXT PRIMARY KEY,'\n",
    "               '    image TEXT,'\n",
    "               '    x FLOAT,'\n",
    "               '    y FLOAT'\n",
    "               ')')\n",
    "cursor.execute('CREATE INDEX book_co_oc_recommender_name_pattern ON book_co_oc_recommender USING btree(lower(wikipedia_id) text_pattern_ops)')\n"
   ]
  },
  {
   "cell_type": "code",
   "execution_count": 69,
   "metadata": {},
   "outputs": [],
   "source": [
    "for item_title, (x,y,image_name) in res.items():\n",
    "    cursor.execute('INSERT INTO book_co_oc_recommender (wikipedia_id, image, x, y) '\n",
    "                   'VALUES (%s, %s, %s, %s)',(item_title, image_name, x, y))\n",
    "                             "
   ]
  },
  {
   "cell_type": "code",
   "execution_count": 70,
   "metadata": {
    "collapsed": true
   },
   "outputs": [],
   "source": [
    "postgres_conn.commit()\n",
    "cursor.close()"
   ]
  }
 ],
 "metadata": {
  "anaconda-cloud": {},
  "kernelspec": {
   "display_name": "Python 3",
   "language": "python",
   "name": "python3"
  },
  "language_info": {
   "codemirror_mode": {
    "name": "ipython",
    "version": 3
   },
   "file_extension": ".py",
   "mimetype": "text/x-python",
   "name": "python",
   "nbconvert_exporter": "python",
   "pygments_lexer": "ipython3",
   "version": "3.6.3"
  },
  "widgets": {
   "state": {
    "02f256ef69534829aca1ce7825824476": {
     "views": [
      {
       "cell_index": 20
      }
     ]
    },
    "162d08edcffe4c5c91e58282d55269b4": {
     "views": [
      {
       "cell_index": 20
      }
     ]
    },
    "18f421c9e30947b5bebb1a67e3793d52": {
     "views": [
      {
       "cell_index": 20
      }
     ]
    },
    "3e31886c12874ab894f37d199a0c1578": {
     "views": [
      {
       "cell_index": 20
      }
     ]
    },
    "4419f1b1824042c596ea2c967f7ca8ff": {
     "views": [
      {
       "cell_index": 20
      }
     ]
    },
    "5b1d672643a6490e91e1ee937b42c9fa": {
     "views": [
      {
       "cell_index": 20
      }
     ]
    },
    "5db19fe91c3748c4ad2cca0135d74ad3": {
     "views": [
      {
       "cell_index": 20
      }
     ]
    },
    "651c007ae2e64d5abdf1ccc1ca9924a8": {
     "views": [
      {
       "cell_index": 20
      }
     ]
    },
    "78f48b9d4db747ca993fec8d2f27c29b": {
     "views": [
      {
       "cell_index": 20
      }
     ]
    },
    "805dae43c03648f59aebf9f351ffdc4b": {
     "views": [
      {
       "cell_index": 20
      }
     ]
    },
    "8759fa35e5ac4f188181164b872a1efb": {
     "views": [
      {
       "cell_index": 20
      }
     ]
    },
    "8c3c2066cdb0453ab4c296d3350a2aa9": {
     "views": [
      {
       "cell_index": 20
      }
     ]
    },
    "92cc503a6e3b4d4b96f3fafac8eacfbb": {
     "views": [
      {
       "cell_index": 20
      }
     ]
    },
    "aa64cd5db4e340eba84af920a0eafe98": {
     "views": [
      {
       "cell_index": 20
      }
     ]
    },
    "b0fb9ecffa954c2790a6759fa874492f": {
     "views": [
      {
       "cell_index": 20
      }
     ]
    },
    "b6c5aa02883944408549087950efa600": {
     "views": [
      {
       "cell_index": 20
      }
     ]
    },
    "bc13422c716140da8ef4d378e7fc61df": {
     "views": [
      {
       "cell_index": 20
      }
     ]
    },
    "bd14165f69dd42ba90a1da6128ab0082": {
     "views": [
      {
       "cell_index": 20
      }
     ]
    },
    "c1eb4b3fa11a475a9330073ddb03a17c": {
     "views": [
      {
       "cell_index": 20
      }
     ]
    },
    "c57202348ab64de2981ef57980c09407": {
     "views": [
      {
       "cell_index": 20
      }
     ]
    },
    "cfd3ea6496a44d7ba249c5475c72155c": {
     "views": [
      {
       "cell_index": 20
      }
     ]
    },
    "d3783b2d16844d15adb02ddb88899af7": {
     "views": [
      {
       "cell_index": 20
      }
     ]
    },
    "dc13069e7c354498b3236fc15f7e0d52": {
     "views": [
      {
       "cell_index": 20
      }
     ]
    },
    "dd79a0de874c43c0975a5dad46763ab7": {
     "views": [
      {
       "cell_index": 20
      }
     ]
    },
    "e42e224a49a44e92b33355f6c829286f": {
     "views": [
      {
       "cell_index": 20
      }
     ]
    },
    "eb744f4a149e46afacab6ca38e583a62": {
     "views": [
      {
       "cell_index": 20
      }
     ]
    },
    "ebf357ad65154f049074faedb6188bcd": {
     "views": [
      {
       "cell_index": 20
      }
     ]
    },
    "f2d905f4d04243769a84a7f73898213e": {
     "views": [
      {
       "cell_index": 20
      }
     ]
    },
    "f8fccd4ec1514f1eb12db6ed5340851e": {
     "views": [
      {
       "cell_index": 20
      }
     ]
    }
   },
   "version": "1.2.0"
  }
 },
 "nbformat": 4,
 "nbformat_minor": 1
}
